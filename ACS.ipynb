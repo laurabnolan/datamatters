{
 "cells": [
  {
   "cell_type": "code",
   "execution_count": 133,
   "metadata": {
    "collapsed": true
   },
   "outputs": [],
   "source": [
    "# Code for August 14, 2016 post on Medium\n",
    "\n",
    "# not using the Census API because they don't have the most recent 5-year ACS available (2014)\n",
    "# using help from https://stharrold.github.io/20160110-etl-census-with-python.html for replicate weights"
   ]
  },
  {
   "cell_type": "code",
   "execution_count": 134,
   "metadata": {
    "collapsed": false
   },
   "outputs": [
    {
     "name": "stdout",
     "output_type": "stream",
     "text": [
      "Populating the interactive namespace from numpy and matplotlib\n"
     ]
    }
   ],
   "source": [
    "import csv\n",
    "import numpy as np\n",
    "import pandas as pd\n",
    "import os\n",
    "import matplotlib.pyplot as plt\n",
    "import matplotlib.patches as mpatches\n",
    "% pylab inline"
   ]
  },
  {
   "cell_type": "code",
   "execution_count": 136,
   "metadata": {
    "collapsed": false
   },
   "outputs": [],
   "source": [
    "path_acs = # redacted for anonymity\n",
    "path_acs_hh = os.path.join(path_acs, 'OpenEastBay_household.csv')\n",
    "path_acs_person = os.path.join(path_acs, 'OpenEastBay_person.csv')\n",
    "path_acs_emp = os.path.join(path_acs, 'OpenEastBay_employment.csv')"
   ]
  },
  {
   "cell_type": "code",
   "execution_count": 137,
   "metadata": {
    "collapsed": false
   },
   "outputs": [
    {
     "data": {
      "text/html": [
       "<div style=\"max-height:1000px;max-width:1500px;overflow:auto;\">\n",
       "<table border=\"1\" class=\"dataframe\">\n",
       "  <thead>\n",
       "    <tr style=\"text-align: right;\">\n",
       "      <th></th>\n",
       "      <th>year</th>\n",
       "      <th>datanum</th>\n",
       "      <th>serial</th>\n",
       "      <th>hhwt</th>\n",
       "      <th>city</th>\n",
       "      <th>gq</th>\n",
       "      <th>pernum</th>\n",
       "      <th>perwt</th>\n",
       "      <th>repwtp</th>\n",
       "      <th>bpl</th>\n",
       "      <th>...</th>\n",
       "      <th>repwtp71</th>\n",
       "      <th>repwtp72</th>\n",
       "      <th>repwtp73</th>\n",
       "      <th>repwtp74</th>\n",
       "      <th>repwtp75</th>\n",
       "      <th>repwtp76</th>\n",
       "      <th>repwtp77</th>\n",
       "      <th>repwtp78</th>\n",
       "      <th>repwtp79</th>\n",
       "      <th>repwtp80</th>\n",
       "    </tr>\n",
       "  </thead>\n",
       "  <tbody>\n",
       "    <tr>\n",
       "      <th>0</th>\n",
       "      <td> 2014</td>\n",
       "      <td> 5</td>\n",
       "      <td> 327896</td>\n",
       "      <td> 11</td>\n",
       "      <td> 4930</td>\n",
       "      <td> 1</td>\n",
       "      <td> 1</td>\n",
       "      <td> 12</td>\n",
       "      <td> 1</td>\n",
       "      <td> 500</td>\n",
       "      <td>...</td>\n",
       "      <td>  5</td>\n",
       "      <td> 4</td>\n",
       "      <td> 15</td>\n",
       "      <td> 10</td>\n",
       "      <td> 16</td>\n",
       "      <td> 21</td>\n",
       "      <td>  3</td>\n",
       "      <td>  9</td>\n",
       "      <td> 11</td>\n",
       "      <td>  4</td>\n",
       "    </tr>\n",
       "    <tr>\n",
       "      <th>1</th>\n",
       "      <td> 2014</td>\n",
       "      <td> 5</td>\n",
       "      <td> 327903</td>\n",
       "      <td> 12</td>\n",
       "      <td> 4930</td>\n",
       "      <td> 1</td>\n",
       "      <td> 1</td>\n",
       "      <td> 12</td>\n",
       "      <td> 1</td>\n",
       "      <td>  26</td>\n",
       "      <td>...</td>\n",
       "      <td> 12</td>\n",
       "      <td> 3</td>\n",
       "      <td> 10</td>\n",
       "      <td>  3</td>\n",
       "      <td> 20</td>\n",
       "      <td> 20</td>\n",
       "      <td> 12</td>\n",
       "      <td> 11</td>\n",
       "      <td> 12</td>\n",
       "      <td> 21</td>\n",
       "    </tr>\n",
       "    <tr>\n",
       "      <th>2</th>\n",
       "      <td> 2014</td>\n",
       "      <td> 5</td>\n",
       "      <td> 327903</td>\n",
       "      <td> 12</td>\n",
       "      <td> 4930</td>\n",
       "      <td> 1</td>\n",
       "      <td> 2</td>\n",
       "      <td>  9</td>\n",
       "      <td> 1</td>\n",
       "      <td> 200</td>\n",
       "      <td>...</td>\n",
       "      <td>  9</td>\n",
       "      <td> 3</td>\n",
       "      <td> 10</td>\n",
       "      <td>  2</td>\n",
       "      <td> 13</td>\n",
       "      <td> 14</td>\n",
       "      <td>  9</td>\n",
       "      <td>  8</td>\n",
       "      <td>  7</td>\n",
       "      <td>  9</td>\n",
       "    </tr>\n",
       "    <tr>\n",
       "      <th>3</th>\n",
       "      <td> 2014</td>\n",
       "      <td> 5</td>\n",
       "      <td> 327903</td>\n",
       "      <td> 12</td>\n",
       "      <td> 4930</td>\n",
       "      <td> 1</td>\n",
       "      <td> 3</td>\n",
       "      <td> 17</td>\n",
       "      <td> 1</td>\n",
       "      <td> 200</td>\n",
       "      <td>...</td>\n",
       "      <td> 21</td>\n",
       "      <td> 4</td>\n",
       "      <td> 17</td>\n",
       "      <td>  6</td>\n",
       "      <td> 27</td>\n",
       "      <td> 31</td>\n",
       "      <td> 17</td>\n",
       "      <td> 16</td>\n",
       "      <td> 14</td>\n",
       "      <td> 24</td>\n",
       "    </tr>\n",
       "    <tr>\n",
       "      <th>4</th>\n",
       "      <td> 2014</td>\n",
       "      <td> 5</td>\n",
       "      <td> 327919</td>\n",
       "      <td> 14</td>\n",
       "      <td> 4930</td>\n",
       "      <td> 1</td>\n",
       "      <td> 1</td>\n",
       "      <td> 14</td>\n",
       "      <td> 1</td>\n",
       "      <td> 210</td>\n",
       "      <td>...</td>\n",
       "      <td> 16</td>\n",
       "      <td> 3</td>\n",
       "      <td>  4</td>\n",
       "      <td> 28</td>\n",
       "      <td> 21</td>\n",
       "      <td>  4</td>\n",
       "      <td> 16</td>\n",
       "      <td> 27</td>\n",
       "      <td>  4</td>\n",
       "      <td> 13</td>\n",
       "    </tr>\n",
       "  </tbody>\n",
       "</table>\n",
       "<p>5 rows × 97 columns</p>\n",
       "</div>"
      ],
      "text/plain": [
       "   year  datanum  serial  hhwt  city  gq  pernum  perwt  repwtp  bpl ...   \\\n",
       "0  2014        5  327896    11  4930   1       1     12       1  500 ...    \n",
       "1  2014        5  327903    12  4930   1       1     12       1   26 ...    \n",
       "2  2014        5  327903    12  4930   1       2      9       1  200 ...    \n",
       "3  2014        5  327903    12  4930   1       3     17       1  200 ...    \n",
       "4  2014        5  327919    14  4930   1       1     14       1  210 ...    \n",
       "\n",
       "   repwtp71  repwtp72  repwtp73  repwtp74  repwtp75  repwtp76  repwtp77  \\\n",
       "0         5         4        15        10        16        21         3   \n",
       "1        12         3        10         3        20        20        12   \n",
       "2         9         3        10         2        13        14         9   \n",
       "3        21         4        17         6        27        31        17   \n",
       "4        16         3         4        28        21         4        16   \n",
       "\n",
       "   repwtp78  repwtp79  repwtp80  \n",
       "0         9        11         4  \n",
       "1        11        12        21  \n",
       "2         8         7         9  \n",
       "3        16        14        24  \n",
       "4        27         4        13  \n",
       "\n",
       "[5 rows x 97 columns]"
      ]
     },
     "execution_count": 137,
     "metadata": {},
     "output_type": "execute_result"
    }
   ],
   "source": [
    "# Person-level ACS data\n",
    "person = pd.read_csv(path_acs_person)\n",
    "person.head() "
   ]
  },
  {
   "cell_type": "code",
   "execution_count": 139,
   "metadata": {
    "collapsed": false
   },
   "outputs": [],
   "source": [
    "# Defining a function to compute the weighted proportions of a categorical variable\n",
    "def wtd_prop(df, var):\n",
    "    wtd = df.groupby(by=['city', var])['perwt'].sum().unstack()\n",
    "    wtdT = wtd.transpose()\n",
    "    wtdT.pct = wtdT.div(wtdT.sum(axis=0), axis=1)\n",
    "    return wtdT.pct\n",
    "\n",
    "# renaming city var as Oakland and NYC\n",
    "person[\"city\"].replace({4610: \"New York\", 4930: \"Oakland\"}, inplace = True)"
   ]
  },
  {
   "cell_type": "code",
   "execution_count": 140,
   "metadata": {
    "collapsed": false
   },
   "outputs": [
    {
     "name": "stdout",
     "output_type": "stream",
     "text": [
      "city     New York   Oakland\n",
      "empstat                    \n",
      "0        0.190047  0.185126\n",
      "1        0.461463  0.482360\n",
      "2        0.051796  0.060239\n",
      "3        0.296694  0.272274\n"
     ]
    }
   ],
   "source": [
    "# distribution of employment variable\n",
    "print wtd_prop(person, 'empstat')"
   ]
  },
  {
   "cell_type": "code",
   "execution_count": 141,
   "metadata": {
    "collapsed": false
   },
   "outputs": [
    {
     "name": "stdout",
     "output_type": "stream",
     "text": [
      "city     New York  Oakland\n",
      "empstat                   \n",
      "1        0.899084  0.88898\n",
      "2        0.100916  0.11102\n"
     ]
    }
   ],
   "source": [
    "# proportion employed out of those who are eligible (taking out the people not in labor force and NA)\n",
    "print wtd_prop(person.loc[(person[\"empstat\"] == 1) | (person[\"empstat\"] == 2)], 'empstat')"
   ]
  },
  {
   "cell_type": "code",
   "execution_count": 142,
   "metadata": {
    "collapsed": false
   },
   "outputs": [
    {
     "name": "stdout",
     "output_type": "stream",
     "text": [
      "Average travel time to work among the employed: city\n",
      "New York    39.603626\n",
      "Oakland     29.195720\n",
      "dtype: float64\n"
     ]
    }
   ],
   "source": [
    "# (weighted) average travel time to work among the employed\n",
    "person_emp = person.loc[(person[\"empstat\"] == 1)]\n",
    "\n",
    "# removing the 0's because they indicate \"Not Applicable\"\n",
    "# (see https://usa.ipums.org/usa-action/variables/TRANTIME#codes_section)\n",
    "grouped = person_emp[(person_emp[\"trantime\"] != 0)].groupby('city')\n",
    "minifun = lambda x: np.average(x.trantime, weights=x.perwt)\n",
    "print \"Average travel time to work among the employed: \" + str(grouped.apply(minifun))"
   ]
  },
  {
   "cell_type": "code",
   "execution_count": 143,
   "metadata": {
    "collapsed": false
   },
   "outputs": [
    {
     "data": {
      "image/png": "[encoded data removed]",
      "text/plain": [
       "<matplotlib.figure.Figure at 0x10c601310>"
      ]
     },
     "metadata": {},
     "output_type": "display_data"
    },
    {
     "data": {
      "image/png": "[encoded data removed]",
      "text/plain": [
       "<matplotlib.figure.Figure at 0x10b18b610>"
      ]
     },
     "metadata": {},
     "output_type": "display_data"
    }
   ],
   "source": [
    "# histogram of travel time to work - NOTE THAT THIS IS UNWEIGHTED\n",
    "fig = plt.figure(figsize=(6,4))\n",
    "ax = fig.add_subplot(111)\n",
    "\n",
    "numBins = 50\n",
    "ax.hist(person_emp[(person_emp.trantime != 0) & (person_emp.city == \"Oakland\")][['trantime']].as_matrix(), \\\n",
    "        numBins, alpha=0.8, color = 'cornflowerblue')\n",
    "ax.tick_params(right = \"off\")\n",
    "ax.tick_params(top = \"off\")\n",
    "ax.set_xlabel('Length of commute (minutes)')\n",
    "ax.set_ylabel('Number of people')\n",
    "ax.set_title('Oakland')\n",
    "plt.show()\n",
    "\n",
    "fig = plt.figure(figsize=(6,4))\n",
    "ax = fig.add_subplot(111)\n",
    "\n",
    "numBins = 50\n",
    "ax.hist(person_emp[(person_emp.trantime != 0) & (person_emp.city == \"New York\")][['trantime']].as_matrix(), \\\n",
    "        numBins, alpha=0.8, color = 'red')\n",
    "ax.tick_params(right = \"off\")\n",
    "ax.tick_params(top = \"off\")\n",
    "ax.set_xlabel('Length of commute (minutes)')\n",
    "ax.set_ylabel('Number of people')\n",
    "ax.set_title('New York')\n",
    "plt.show()\n"
   ]
  },
  {
   "cell_type": "code",
   "execution_count": 144,
   "metadata": {
    "collapsed": false
   },
   "outputs": [
    {
     "name": "stdout",
     "output_type": "stream",
     "text": [
      "city       New York    Oakland\n",
      "tranwork                      \n",
      "0          2.323771   3.283316\n",
      "10        26.210846  63.234784\n",
      "20         0.066586   0.311494\n",
      "31        11.391420   7.543208\n",
      "32         0.263647   0.244144\n",
      "33        41.621221  10.136681\n",
      "34         1.578094   0.369435\n",
      "35         0.966757   0.080226\n",
      "36         0.236852   0.150052\n",
      "40         0.943412   2.693508\n",
      "50         9.817891   4.295548\n",
      "60         0.605812   1.435646\n",
      "70         3.973691   6.221958\n"
     ]
    }
   ],
   "source": [
    "# Type of transportation used to get to work (using person-weights)\n",
    "weightedT = wtd_prop(person_emp, 'tranwork')\n",
    "# Percent not proportion\n",
    "weightedT['New York'] = weightedT['New York'] * 100\n",
    "weightedT['Oakland'] = weightedT['Oakland'] * 100\n",
    "\n",
    "print weightedT"
   ]
  },
  {
   "cell_type": "code",
   "execution_count": 145,
   "metadata": {
    "collapsed": false
   },
   "outputs": [
    {
     "name": "stdout",
     "output_type": "stream",
     "text": [
      "city                       New York    Oakland\n",
      "tranwork                                      \n",
      "NA                         2.323771   3.283316\n",
      "Auto, truck, or van       26.210846  63.234784\n",
      "Motorcycle                 0.066586   0.311494\n",
      "Bus or trolley bus        11.391420   7.543208\n",
      "Streetcar or trolley car   0.263647   0.244144\n",
      "Subway or elevated        41.621221  10.136681\n",
      "Railroad                   1.578094   0.369435\n",
      "Taxicab                    0.966757   0.080226\n",
      "Ferryboat                  0.236852   0.150052\n",
      "Bicycle                    0.943412   2.693508\n",
      "Walked only                9.817891   4.295548\n",
      "Other                      0.605812   1.435646\n",
      "Worked at home             3.973691   6.221958\n"
     ]
    }
   ],
   "source": [
    "# renaming rows and columns for nice graphing\n",
    "weightedT = weightedT.rename(index={0: 'NA', 10: 'Auto, truck, or van', 20: 'Motorcycle', \\\n",
    "                      31: 'Bus or trolley bus', 32: 'Streetcar or trolley car', \\\n",
    "                      33: 'Subway or elevated', 34: 'Railroad', 35: 'Taxicab', \\\n",
    "                      36: 'Ferryboat', 40: 'Bicycle', 50: 'Walked only', \\\n",
    "                      60: 'Other', 70: 'Worked at home'})\n",
    "print weightedT"
   ]
  },
  {
   "cell_type": "code",
   "execution_count": 146,
   "metadata": {
    "collapsed": false
   },
   "outputs": [
    {
     "name": "stdout",
     "output_type": "stream",
     "text": [
      "[2.3237710743741631, 26.210845942421006, 0.066586151118138939, 11.391419698709987, 0.26364691856827582, 41.621221034894567, 1.5780943754286469, 0.96675724665876028, 0.2368516345382651, 0.94341188787172292, 9.8178906378885831, 0.6058120605236208, 3.9736913370042615]\n"
     ]
    }
   ],
   "source": [
    "dfList = weightedT['New York'].tolist()\n",
    "print dfList"
   ]
  },
  {
   "cell_type": "code",
   "execution_count": 147,
   "metadata": {
    "collapsed": false
   },
   "outputs": [
    {
     "data": {
      "image/png": "[encoded data removed]",
      "text/plain": [
       "<matplotlib.figure.Figure at 0x10e005d50>"
      ]
     },
     "metadata": {},
     "output_type": "display_data"
    }
   ],
   "source": [
    "# graphing the modes of commute\n",
    "N = 13\n",
    "ind = np.arange(N)  # the x locations for the groups\n",
    "width = 0.4      # the width of the bars\n",
    "\n",
    "fig = plt.figure(figsize=(4,2))\n",
    "ax = fig.add_subplot(111)\n",
    "ax.set_xticklabels(ax.xaxis.get_majorticklabels(), rotation=90)\n",
    "\n",
    "rects1 = ax.bar(ind, weightedT['New York'].tolist(), width, color = 'red')\n",
    "rects2 = ax.bar(ind+width, weightedT['Oakland'].tolist(), width, color = 'cornflowerblue')\n",
    "ax.tick_params(right=\"off\")\n",
    "ax.tick_params(top=\"off\")\n",
    "ax.set_ylabel('Percent')\n",
    "ax.set_xticks(ind+width)\n",
    "ax.set_xticklabels( ('NA', 'Auto, truck, or van', 'Motorcycle', 'Bus or trolley bus', 'Streetcar or trolley car', \\\n",
    "                    'Subway or elevated', 'Railroad', 'Taxicab', 'Ferryboat', 'Bicycle', 'Walked only', 'Other', \\\n",
    "                    'Worked at home') )\n",
    "\n",
    "for item in ([ax.title, ax.xaxis.label, ax.yaxis.label] +\n",
    "             ax.get_xticklabels() + ax.get_yticklabels()):\n",
    "    item.set_fontsize(10)\n",
    "\n",
    "nyc_leg = mpatches.Patch(color='red', label='New York')\n",
    "oak_leg = mpatches.Patch(color='cornflowerblue', label='Oakland')\n",
    "ax.legend(handles=[nyc_leg, oak_leg])\n",
    "\n",
    "ax.set_title('Primary means of transportation to work \\n in New York and Oakland')\n",
    "\n",
    "plt.savefig('/Users/laura/Dropbox/datamatters/fig1.png', bbox_inches='tight', dpi = 150)"
   ]
  },
  {
   "cell_type": "code",
   "execution_count": 149,
   "metadata": {
    "collapsed": false
   },
   "outputs": [
    {
     "data": {
      "text/html": [
       "<div style=\"max-height:1000px;max-width:1500px;overflow:auto;\">\n",
       "<table border=\"1\" class=\"dataframe\">\n",
       "  <thead>\n",
       "    <tr style=\"text-align: right;\">\n",
       "      <th></th>\n",
       "      <th>year</th>\n",
       "      <th>datanum</th>\n",
       "      <th>serial</th>\n",
       "      <th>hhwt</th>\n",
       "      <th>city</th>\n",
       "      <th>gq</th>\n",
       "      <th>pernum</th>\n",
       "      <th>perwt</th>\n",
       "      <th>repwtp</th>\n",
       "      <th>nchild</th>\n",
       "      <th>...</th>\n",
       "      <th>repwtp71</th>\n",
       "      <th>repwtp72</th>\n",
       "      <th>repwtp73</th>\n",
       "      <th>repwtp74</th>\n",
       "      <th>repwtp75</th>\n",
       "      <th>repwtp76</th>\n",
       "      <th>repwtp77</th>\n",
       "      <th>repwtp78</th>\n",
       "      <th>repwtp79</th>\n",
       "      <th>repwtp80</th>\n",
       "    </tr>\n",
       "  </thead>\n",
       "  <tbody>\n",
       "    <tr>\n",
       "      <th>0</th>\n",
       "      <td> 2014</td>\n",
       "      <td> 5</td>\n",
       "      <td> 327896</td>\n",
       "      <td> 1100</td>\n",
       "      <td> 4930</td>\n",
       "      <td> 1</td>\n",
       "      <td> 1</td>\n",
       "      <td> 1200</td>\n",
       "      <td> 1</td>\n",
       "      <td> 0</td>\n",
       "      <td>...</td>\n",
       "      <td>  5</td>\n",
       "      <td> 4</td>\n",
       "      <td> 15</td>\n",
       "      <td> 10</td>\n",
       "      <td> 16</td>\n",
       "      <td> 21</td>\n",
       "      <td>  3</td>\n",
       "      <td>  9</td>\n",
       "      <td> 11</td>\n",
       "      <td>  4</td>\n",
       "    </tr>\n",
       "    <tr>\n",
       "      <th>1</th>\n",
       "      <td> 2014</td>\n",
       "      <td> 5</td>\n",
       "      <td> 327903</td>\n",
       "      <td> 1200</td>\n",
       "      <td> 4930</td>\n",
       "      <td> 1</td>\n",
       "      <td> 1</td>\n",
       "      <td> 1200</td>\n",
       "      <td> 1</td>\n",
       "      <td> 1</td>\n",
       "      <td>...</td>\n",
       "      <td> 12</td>\n",
       "      <td> 3</td>\n",
       "      <td> 10</td>\n",
       "      <td>  3</td>\n",
       "      <td> 20</td>\n",
       "      <td> 20</td>\n",
       "      <td> 12</td>\n",
       "      <td> 11</td>\n",
       "      <td> 12</td>\n",
       "      <td> 21</td>\n",
       "    </tr>\n",
       "    <tr>\n",
       "      <th>2</th>\n",
       "      <td> 2014</td>\n",
       "      <td> 5</td>\n",
       "      <td> 327903</td>\n",
       "      <td> 1200</td>\n",
       "      <td> 4930</td>\n",
       "      <td> 1</td>\n",
       "      <td> 2</td>\n",
       "      <td>  900</td>\n",
       "      <td> 1</td>\n",
       "      <td> 1</td>\n",
       "      <td>...</td>\n",
       "      <td>  9</td>\n",
       "      <td> 3</td>\n",
       "      <td> 10</td>\n",
       "      <td>  2</td>\n",
       "      <td> 13</td>\n",
       "      <td> 14</td>\n",
       "      <td>  9</td>\n",
       "      <td>  8</td>\n",
       "      <td>  7</td>\n",
       "      <td>  9</td>\n",
       "    </tr>\n",
       "    <tr>\n",
       "      <th>3</th>\n",
       "      <td> 2014</td>\n",
       "      <td> 5</td>\n",
       "      <td> 327903</td>\n",
       "      <td> 1200</td>\n",
       "      <td> 4930</td>\n",
       "      <td> 1</td>\n",
       "      <td> 3</td>\n",
       "      <td> 1700</td>\n",
       "      <td> 1</td>\n",
       "      <td> 0</td>\n",
       "      <td>...</td>\n",
       "      <td> 21</td>\n",
       "      <td> 4</td>\n",
       "      <td> 17</td>\n",
       "      <td>  6</td>\n",
       "      <td> 27</td>\n",
       "      <td> 31</td>\n",
       "      <td> 17</td>\n",
       "      <td> 16</td>\n",
       "      <td> 14</td>\n",
       "      <td> 24</td>\n",
       "    </tr>\n",
       "    <tr>\n",
       "      <th>4</th>\n",
       "      <td> 2014</td>\n",
       "      <td> 5</td>\n",
       "      <td> 327919</td>\n",
       "      <td> 1400</td>\n",
       "      <td> 4930</td>\n",
       "      <td> 1</td>\n",
       "      <td> 1</td>\n",
       "      <td> 1400</td>\n",
       "      <td> 1</td>\n",
       "      <td> 2</td>\n",
       "      <td>...</td>\n",
       "      <td> 16</td>\n",
       "      <td> 3</td>\n",
       "      <td>  4</td>\n",
       "      <td> 28</td>\n",
       "      <td> 21</td>\n",
       "      <td>  4</td>\n",
       "      <td> 16</td>\n",
       "      <td> 27</td>\n",
       "      <td>  4</td>\n",
       "      <td> 13</td>\n",
       "    </tr>\n",
       "  </tbody>\n",
       "</table>\n",
       "<p>5 rows × 100 columns</p>\n",
       "</div>"
      ],
      "text/plain": [
       "   year  datanum  serial  hhwt  city  gq  pernum  perwt  repwtp  nchild  \\\n",
       "0  2014        5  327896  1100  4930   1       1   1200       1       0   \n",
       "1  2014        5  327903  1200  4930   1       1   1200       1       1   \n",
       "2  2014        5  327903  1200  4930   1       2    900       1       1   \n",
       "3  2014        5  327903  1200  4930   1       3   1700       1       0   \n",
       "4  2014        5  327919  1400  4930   1       1   1400       1       2   \n",
       "\n",
       "    ...    repwtp71  repwtp72  repwtp73  repwtp74  repwtp75  repwtp76  \\\n",
       "0   ...           5         4        15        10        16        21   \n",
       "1   ...          12         3        10         3        20        20   \n",
       "2   ...           9         3        10         2        13        14   \n",
       "3   ...          21         4        17         6        27        31   \n",
       "4   ...          16         3         4        28        21         4   \n",
       "\n",
       "   repwtp77  repwtp78  repwtp79  repwtp80  \n",
       "0         3         9        11         4  \n",
       "1        12        11        12        21  \n",
       "2         9         8         7         9  \n",
       "3        17        16        14        24  \n",
       "4        16        27         4        13  \n",
       "\n",
       "[5 rows x 100 columns]"
      ]
     },
     "execution_count": 149,
     "metadata": {},
     "output_type": "execute_result"
    }
   ],
   "source": [
    "# what about the unemployed?\n",
    "employment = pd.read_csv(path_acs_emp)\n",
    "employment.head() # quick look at the data"
   ]
  },
  {
   "cell_type": "code",
   "execution_count": 150,
   "metadata": {
    "collapsed": false
   },
   "outputs": [],
   "source": [
    "# just keeping the people who are non-student unemployed \n",
    "unemp = employment.loc[(person[\"empstat\"] == 2)]\n",
    "unemp = unemp.loc[(unemp[\"gradeatt\"] == 0)]\n",
    "unemp.head()\n",
    "\n",
    "# again renaming city var as Oakland and NYC\n",
    "unemp[\"city\"].replace({4610: \"New York\", 4930: \"Oakland\"}, inplace = True)"
   ]
  },
  {
   "cell_type": "code",
   "execution_count": 151,
   "metadata": {
    "collapsed": false
   },
   "outputs": [
    {
     "name": "stdout",
     "output_type": "stream",
     "text": [
      "city     New York   Oakland\n",
      "hcovany                    \n",
      "0        0.322653  0.405933\n",
      "1        0.677347  0.594067\n"
     ]
    }
   ],
   "source": [
    "# About the unemployed - proportion without health insurance\n",
    "unemp[\"hcovany\"].replace(1, 0, inplace = True)\n",
    "unemp[\"hcovany\"].replace(2, 1, inplace = True)\n",
    "print wtd_prop(unemp, 'hcovany') # 1-no, no health insurance"
   ]
  },
  {
   "cell_type": "code",
   "execution_count": 152,
   "metadata": {
    "collapsed": false
   },
   "outputs": [
    {
     "name": "stdout",
     "output_type": "stream",
     "text": [
      "0.67734674075\n",
      "0.59406709715\n"
     ]
    }
   ],
   "source": [
    "# Is the difference in health insurance coverage between Oakland and NYC statistically significant?\n",
    "# Using replicate weights to ge the correct standard errors\n",
    "# Creating iterable list of replicate weights\n",
    "hwt = 'repwtp'\n",
    "hwts = [hwt+str(inum) for inum in range(1, 81)] # ['repwt1', ..., 'repwt80']\n",
    "\n",
    "# saving Oakland and NYC means\n",
    "props = wtd_prop(unemp, 'hcovany')\n",
    "\n",
    "nyc_mean = props.iloc[1]['New York']\n",
    "oak_mean = props.iloc[1]['Oakland']\n",
    "\n",
    "print nyc_mean\n",
    "print oak_mean"
   ]
  },
  {
   "cell_type": "code",
   "execution_count": 153,
   "metadata": {
    "collapsed": false
   },
   "outputs": [
    {
     "name": "stdout",
     "output_type": "stream",
     "text": [
      "Standard error for proportion without health insurance in New York is 0.00504878969964\n",
      "Standard error for proportion without health insurance in Oakland is 0.0188740114305\n"
     ]
    }
   ],
   "source": [
    "# variance of the point estimate x_0 where x_i are the replicate weight estimates \n",
    "# variance(x_0) = (4/80) * sum(x_i - x_0)^2 (square root to get standard error)\n",
    "nyc_se = []\n",
    "oak_se = []\n",
    "\n",
    "nyc = unemp[unemp[\"city\"] == \"New York\"]\n",
    "oak = unemp[unemp[\"city\"] == \"Oakland\"]\n",
    "\n",
    "for weight in hwts:\n",
    "    nyc_se.append(float((np.average(nyc[\"hcovany\"], weights = nyc[weight]) - nyc_mean) ** 2))\n",
    "nyc_se = (np.sum(nyc_se) * .05) ** .5    \n",
    "for weight in hwts:\n",
    "    oak_se.append(float((np.average(oak[\"hcovany\"], weights = oak[weight]) - oak_mean) ** 2))\n",
    "oak_se = (np.sum(oak_se) * .05) ** .5\n",
    "    \n",
    "print \"Standard error for proportion without health insurance in New York is \" + str(nyc_se)\n",
    "print \"Standard error for proportion without health insurance in Oakland is \" + str(oak_se)"
   ]
  },
  {
   "cell_type": "code",
   "execution_count": 155,
   "metadata": {
    "collapsed": false
   },
   "outputs": [
    {
     "name": "stdout",
     "output_type": "stream",
     "text": [
      "Percent of unemployed without health insurance, New York = 67.7% (CI = 66.7% , 68.7%)\n",
      "Percent of unemployed without health insurance, Oakland = 59.4% (CI = 55.7% , 63.1%)\n"
     ]
    }
   ],
   "source": [
    "# Point estimate and confidence interval for proportion with health insurance\n",
    "print \"Percent of unemployed without health insurance, New York = \" + str(round(nyc_mean * 100, 1)) + \\\n",
    "    \"% (CI = \" + str(round(((nyc_mean - (1.96*nyc_se)) * 100), 1)) + \"% , \" + \\\n",
    "    str(round(((nyc_mean + (1.96*nyc_se)) * 100), 1)) + \"%)\"\n",
    "print \"Percent of unemployed without health insurance, Oakland = \" + str(round(oak_mean * 100, 1)) + \\\n",
    "    \"% (CI = \" + str(round(((oak_mean - (1.96*oak_se)) * 100), 1)) + \"% , \" + \\\n",
    "    str(round(((oak_mean + (1.96*oak_se)) * 100), 1)) + \"%)\""
   ]
  },
  {
   "cell_type": "code",
   "execution_count": 156,
   "metadata": {
    "collapsed": false
   },
   "outputs": [
    {
     "name": "stdout",
     "output_type": "stream",
     "text": [
      "       New York    Oakland\n",
      "mean  67.734674  59.406710\n",
      "se     0.989563   3.699306\n"
     ]
    }
   ],
   "source": [
    "# Graphing\n",
    "forgraph = pd.DataFrame({'New York' : pd.Series([nyc_mean*100, (1.96*nyc_se) * 100], index=['mean', 'se']), \n",
    "                           'Oakland' : pd.Series([oak_mean*100, (1.96*oak_se) * 100], index=['mean', 'se'])})\n",
    "print forgraph"
   ]
  },
  {
   "cell_type": "code",
   "execution_count": 157,
   "metadata": {
    "collapsed": false
   },
   "outputs": [
    {
     "data": {
      "image/png": "[encoded data removed]",
      "text/plain": [
       "<matplotlib.figure.Figure at 0x10e4ea3d0>"
      ]
     },
     "metadata": {},
     "output_type": "display_data"
    }
   ],
   "source": [
    "fig = plt.figure(figsize=(3,2))\n",
    "ax = fig.add_subplot(111)\n",
    "\n",
    "ind = np.arange(2)\n",
    "width = 0.5\n",
    "\n",
    "rects1 = ax.bar(1, forgraph.iloc[0,0], width,\n",
    "                color='red', yerr = forgraph.iloc[1,0],\n",
    "                error_kw=dict(elinewidth=2,ecolor='black'))\n",
    "\n",
    "rects1 = ax.bar(2, forgraph.iloc[0,1], width,\n",
    "                color='cornflowerblue', yerr = forgraph.iloc[1,1],\n",
    "                error_kw=dict(elinewidth=2,ecolor='black'))\n",
    "ax.tick_params(right=\"off\")\n",
    "ax.tick_params(top=\"off\")\n",
    "ax.set_xlim(.5,3)\n",
    "ax.set_xticks([1.25, 2.25])\n",
    "ax.axes.set_ylim([0,100])\n",
    "xTickMarks = [\"New York\", \"Oakland\"]\n",
    "xtickNames = ax.set_xticklabels(xTickMarks)\n",
    "ax.set_ylabel('Percent')\n",
    "ax.set_xlabel('City')\n",
    "ax.set_title('Percent of unemployed that do not have health\\n insurance in New York and Oakland')\n",
    "\n",
    "for item in ([ax.title, ax.xaxis.label, ax.yaxis.label] +\n",
    "             ax.get_xticklabels() + ax.get_yticklabels()):\n",
    "    item.set_fontsize(8)\n",
    "\n",
    "plt.savefig('/Users/laura/Dropbox/datamatters/fig2.png', bbox_inches='tight', dpi = 200)"
   ]
  },
  {
   "cell_type": "code",
   "execution_count": 158,
   "metadata": {
    "collapsed": false
   },
   "outputs": [
    {
     "name": "stdout",
     "output_type": "stream",
     "text": [
      "city\n",
      "New York    0.610400\n",
      "Oakland     0.673011\n",
      "dtype: float64\n"
     ]
    }
   ],
   "source": [
    "# average number of children in the household\n",
    "grouped = unemp.groupby('city')\n",
    "minifun = lambda x: np.average(x.nchild, weights = x.perwt)\n",
    "print grouped.apply(minifun)"
   ]
  },
  {
   "cell_type": "code",
   "execution_count": 159,
   "metadata": {
    "collapsed": false
   },
   "outputs": [
    {
     "name": "stdout",
     "output_type": "stream",
     "text": [
      "city                       New York   Oakland\n",
      "educ                                         \n",
      "NA or no schooling         0.021641  0.026120\n",
      "Nursery school to grade 4  0.008347  0.015148\n",
      "Grade 5, 6, 7, or 8        0.048234  0.057921\n",
      "Grade 9                    0.024032  0.022916\n",
      "Grade 10                   0.032762  0.026751\n",
      "Grade 11                   0.049573  0.047094\n",
      "Grade 12                   0.383328  0.340001\n",
      "1 year of college          0.134797  0.171239\n",
      "2 years of college         0.060965  0.061368\n",
      "4 years of college         0.168593  0.163762\n",
      "5+ years of college        0.067730  0.067680\n",
      "0.518125\n",
      "0.51124\n"
     ]
    }
   ],
   "source": [
    "# Level of education\n",
    "educstat = wtd_prop(unemp, 'educ')\n",
    "# renaming for easy reading\n",
    "educstat = educstat.rename(index={0: 'NA or no schooling', 1: 'Nursery school to grade 4', 2: 'Grade 5, 6, 7, or 8', \\\n",
    "                      3: 'Grade 9', 4: 'Grade 10', \\\n",
    "                      5: 'Grade 11', 6: 'Grade 12', 7: '1 year of college', \\\n",
    "                      8: '2 years of college', 10: '4 years of college', 11: '5+ years of college'})\n",
    "print educstat\n",
    "# half have completed either high school or one year of college\n",
    "print 0.383328 + 0.134797 \n",
    "print 0.340001 + 0.171239"
   ]
  },
  {
   "cell_type": "code",
   "execution_count": null,
   "metadata": {
    "collapsed": false
   },
   "outputs": [],
   "source": []
  }
 ],
 "metadata": {
  "kernelspec": {
   "display_name": "Python 2",
   "language": "python",
   "name": "python2"
  },
  "language_info": {
   "codemirror_mode": {
    "name": "ipython",
    "version": 2
   },
   "file_extension": ".py",
   "mimetype": "text/x-python",
   "name": "python",
   "nbconvert_exporter": "python",
   "pygments_lexer": "ipython2",
   "version": "2.7.9"
  }
 },
 "nbformat": 4,
 "nbformat_minor": 0
}
