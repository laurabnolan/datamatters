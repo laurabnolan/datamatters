{
 "cells": [
  {
   "cell_type": "code",
   "execution_count": null,
   "metadata": {
    "collapsed": true
   },
   "outputs": [],
   "source": [
    "# Further analyses for OXT West regarding computer ownership and internet access in Oakland and other cities\n",
    "# http://www.otxwest.org\n",
    "# American Community Survey data from IPUMS: https://usa.ipums.org/usa/"
   ]
  },
  {
   "cell_type": "code",
   "execution_count": 276,
   "metadata": {
    "collapsed": false
   },
   "outputs": [
    {
     "name": "stdout",
     "output_type": "stream",
     "text": [
      "Populating the interactive namespace from numpy and matplotlib\n"
     ]
    },
    {
     "name": "stderr",
     "output_type": "stream",
     "text": [
      "WARNING: pylab import has clobbered these variables: ['test']\n",
      "`%matplotlib` prevents importing * from pylab and numpy\n"
     ]
    }
   ],
   "source": [
    "import csv\n",
    "import numpy as np\n",
    "import pandas as pd\n",
    "import os\n",
    "import matplotlib.pyplot as plt\n",
    "import matplotlib.patches as mpatches\n",
    "% pylab inline"
   ]
  },
  {
   "cell_type": "code",
   "execution_count": 277,
   "metadata": {
    "collapsed": true
   },
   "outputs": [],
   "source": [
    "mypath = '/Users/laura/Dropbox/posting/OXTWest'\n",
    "path_acs_internet = os.path.join(mypath, 'oxtwest.csv')"
   ]
  },
  {
   "cell_type": "code",
   "execution_count": 278,
   "metadata": {
    "collapsed": true
   },
   "outputs": [],
   "source": [
    "oxt = pd.read_csv(path_acs_internet)"
   ]
  },
  {
   "cell_type": "code",
   "execution_count": 279,
   "metadata": {
    "collapsed": false
   },
   "outputs": [
    {
     "name": "stdout",
     "output_type": "stream",
     "text": [
      "['year', 'datanum', 'serial', 'hhwt', 'city', 'gq', 'rentgrs', 'foodstmp', 'lingisol', 'cilaptop', 'cihand', 'ciothcomp', 'cinethh', 'cimodem', 'cisat', 'cidsl', 'cifiber', 'cibrdbnd', 'cidial', 'ciothsvc', 'multgen', 'multgend', 'pernum', 'perwt', 'relate', 'related', 'age', 'race', 'raced', 'hispan', 'hispand', 'citizen', 'speakeng', 'empstat', 'empstatd', 'poverty']\n",
      "0          Oakland, CA\n",
      "1          Oakland, CA\n",
      "2    San Francisco, CA\n",
      "3    San Francisco, CA\n",
      "4    San Francisco, CA\n",
      "Name: city, dtype: object\n",
      "city\n",
      "Chicago, IL           45243\n",
      "Cleveland, OH          8109\n",
      "Detroit, MI            9561\n",
      "Flint, MI              1362\n",
      "Manchester, NH         1872\n",
      "Miami, FL              7715\n",
      "Minneapolis, MN        5094\n",
      "New Orleans, LA        9575\n",
      "New York, NY         140629\n",
      "Oakland, CA            9093\n",
      "Providence, RI         3168\n",
      "San Francisco, CA     15451\n",
      "Seattle, WA           11424\n",
      "Name: n, dtype: int64\n",
      "268296\n"
     ]
    }
   ],
   "source": [
    "print list(oxt.columns.values) # var names\n",
    "print oxt['city'].head()\n",
    "oxt['n'] = 1\n",
    "print oxt.groupby(by=['city'])['n'].sum() # number of people in the sample each city\n",
    "print len(oxt.index)"
   ]
  },
  {
   "cell_type": "code",
   "execution_count": 8,
   "metadata": {
    "collapsed": true
   },
   "outputs": [],
   "source": []
  },
  {
   "cell_type": "code",
   "execution_count": 201,
   "metadata": {
    "collapsed": false
   },
   "outputs": [],
   "source": [
    "# What does access to Internet at home look like for poor Oakland residents based on age?\n",
    "# first creating variables needed"
   ]
  },
  {
   "cell_type": "code",
   "execution_count": 280,
   "metadata": {
    "collapsed": false
   },
   "outputs": [
    {
     "name": "stdout",
     "output_type": "stream",
     "text": [
      "cilaptop\n",
      "N/A (GQ)     2.557585\n",
      "No          20.738400\n",
      "Yes         83.519870\n",
      "Name: perwt, dtype: float64\n",
      "   N/A (GQ)  no_internet  Yes, with a subscription to an Internet Service  \\\n",
      "0         0            1                                                0   \n",
      "1         0            1                                                0   \n",
      "2         0            0                                                1   \n",
      "3         0            0                                                1   \n",
      "4         0            0                                                1   \n",
      "\n",
      "   Yes, without a subscription to an Internet Service  \n",
      "0                                                  0   \n",
      "1                                                  0   \n",
      "2                                                  0   \n",
      "3                                                  0   \n",
      "4                                                  0   \n"
     ]
    }
   ],
   "source": [
    "# internet access variable codebook\n",
    "# 0: N/A (GQ)\n",
    "# 1: Yes, with a subscription to an Internet Service\n",
    "# 2: Yes, without a subscription to an Internet Service\n",
    "# 3: No Internet access at this house, apartment, or mobile home\n",
    "\n",
    "print oxt.groupby(by=['cilaptop'])['perwt'].sum().div(oxt.hhwt.sum()) * 100 # response options\n",
    "\n",
    "test = pd.get_dummies(oxt['cinethh'])\n",
    "test.rename(columns={'No Internet access at this house, apartment, or mobile home':'no_internet'}, inplace=True)\n",
    "print test.head()\n",
    "# keeping just the second column, merging to main data set\n",
    "test = test[['no_internet']]\n",
    "oxt = pd.concat([oxt, test], axis = 1)"
   ]
  },
  {
   "cell_type": "code",
   "execution_count": 281,
   "metadata": {
    "collapsed": false
   },
   "outputs": [
    {
     "name": "stdout",
     "output_type": "stream",
     "text": [
      "age\n",
      "1      2930\n",
      "10     2958\n",
      "11     2828\n",
      "12     2848\n",
      "13     2827\n",
      "14     2775\n",
      "15     2886\n",
      "16     3001\n",
      "17     3118\n",
      "18     3750\n",
      "19     3744\n",
      "2      2842\n",
      "20     3771\n",
      "21     3699\n",
      "22     4062\n",
      "...\n",
      "82                           1014\n",
      "83                            972\n",
      "84                            955\n",
      "85                            867\n",
      "86                            878\n",
      "87                            724\n",
      "88                            653\n",
      "89                            539\n",
      "9                            2798\n",
      "90 (90+ in 1980 and 1990)     459\n",
      "91                            238\n",
      "93                            103\n",
      "94                            753\n",
      "95                            800\n",
      "Less than 1 year old         2915\n",
      "Name: n, Length: 95, dtype: int64\n",
      "268296\n"
     ]
    }
   ],
   "source": [
    "# Age variable\n",
    "print oxt.groupby(by=['age'])['n'].sum() # absolute/sampled numbers\n",
    "oxt.age[oxt.age == 'Less than 1 year old'] = 0 # recoding\n",
    "oxt.age[oxt.age == '90 (90+ in 1980 and 1990)'] = 91 # recoding\n",
    "oxt.age = oxt.age.astype(int)\n",
    "\n",
    "# Age variable\n",
    "oxt.loc[(oxt['age'] >= 0) & (oxt['age'] <= 10), 'age_ind'] = '0-10'\n",
    "oxt.loc[(oxt['age'] >= 11) & (oxt['age'] <= 14), 'age_ind'] = '11-14'\n",
    "oxt.loc[(oxt['age'] >= 15) & (oxt['age'] <= 18), 'age_ind'] = '15-18'\n",
    "oxt.loc[(oxt['age'] >= 19) & (oxt['age'] <= 22), 'age_ind'] = '19-22'\n",
    "oxt.loc[(oxt['age'] >= 22) & (oxt['age'] <= 25), 'age_ind'] = '22-25'\n",
    "oxt.loc[(oxt['age'] >= 21) & (oxt['age'] <= 29), 'age_ind'] = '26-29'\n",
    "oxt.loc[(oxt['age'] >= 30) & (oxt['age'] <= 39), 'age_ind'] = '30-39'\n",
    "oxt.loc[(oxt['age'] >= 40) & (oxt['age'] <= 49), 'age_ind'] = '40-49'\n",
    "oxt.loc[(oxt['age'] >= 50) & (oxt['age'] <= 59), 'age_ind'] = '50-59'\n",
    "oxt.loc[(oxt['age'] >= 61), 'age_ind'] = '61+'\n",
    "print len(oxt.index)"
   ]
  },
  {
   "cell_type": "code",
   "execution_count": 282,
   "metadata": {
    "collapsed": false
   },
   "outputs": [
    {
     "name": "stdout",
     "output_type": "stream",
     "text": [
      "268296\n"
     ]
    }
   ],
   "source": [
    "# just Oakland:\n",
    "oxt_oakland = oxt[oxt['city'] == 'Oakland, CA']\n",
    "print len(oxt.index)\n",
    "\n",
    "# just Poor:\n",
    "oxt_oakland_poor = oxt_oakland[oxt_oakland.poverty < 100]"
   ]
  },
  {
   "cell_type": "code",
   "execution_count": 283,
   "metadata": {
    "collapsed": false
   },
   "outputs": [
    {
     "name": "stdout",
     "output_type": "stream",
     "text": [
      "age_ind\n",
      "0-10       0.317152\n",
      "11-14      0.329046\n",
      "15-18      0.180771\n",
      "19-22      0.155227\n",
      "26-29      0.220203\n",
      "30-39      0.273447\n",
      "40-49      0.264167\n",
      "50-59      0.351251\n",
      "61+        0.478935\n",
      "dtype: float64\n"
     ]
    }
   ],
   "source": [
    "# defining the function to summarize weighted internet access in the home by age group\n",
    "grouped = oxt_oakland_poor.groupby('age_ind')\n",
    "minifun = lambda x: np.average(x.no_internet, weights = x.perwt)\n",
    "print str(grouped.apply(minifun)) # proportion of poor Oaklanders without internet access in their home"
   ]
  },
  {
   "cell_type": "code",
   "execution_count": 284,
   "metadata": {
    "collapsed": false
   },
   "outputs": [
    {
     "name": "stdout",
     "output_type": "stream",
     "text": [
      "relate\n",
      "Child                        69455\n",
      "Child-in-law                  1108\n",
      "Grandchild                    6967\n",
      "Head/Householder            105917\n",
      "Institutional inmates         4123\n",
      "Other non-relatives          13647\n",
      "Other relatives               5187\n",
      "Parent                        4451\n",
      "Parent-in-Law                  771\n",
      "Partner, friend, visitor     13274\n",
      "Sibling                       4500\n",
      "Sibling-in-Law                 749\n",
      "Spouse                       38147\n",
      "Name: n, dtype: int64\n"
     ]
    }
   ],
   "source": [
    "# doing the same thing for just households...\n",
    "# data set for households - just keeping the household head as representative (relate == 1)\n",
    "print oxt.groupby(by=['relate'])['n'].sum()\n",
    "oxt_hh_oakland_poor = oxt_oakland_poor[oxt_oakland_poor['relate'] == 'Head/Householder']"
   ]
  },
  {
   "cell_type": "code",
   "execution_count": 285,
   "metadata": {
    "collapsed": false
   },
   "outputs": [
    {
     "name": "stdout",
     "output_type": "stream",
     "text": [
      "age_ind\n",
      "15-18      1.000000\n",
      "19-22      0.388397\n",
      "26-29      0.237574\n",
      "30-39      0.316932\n",
      "40-49      0.334739\n",
      "50-59      0.502105\n",
      "61+        0.650864\n",
      "dtype: float64\n"
     ]
    }
   ],
   "source": [
    "# defining the function to summarize weighted internet access in the home by age group - unit is household!\n",
    "grouped = oxt_hh_oakland_poor.groupby('age_ind')\n",
    "minifun = lambda x: np.average(x.no_internet, weights = x.hhwt)\n",
    "print str(grouped.apply(minifun)) # proportion of poor Oakland households without internet access in their home"
   ]
  },
  {
   "cell_type": "code",
   "execution_count": null,
   "metadata": {
    "collapsed": true
   },
   "outputs": [],
   "source": []
  },
  {
   "cell_type": "code",
   "execution_count": null,
   "metadata": {
    "collapsed": true
   },
   "outputs": [],
   "source": [
    "# How does computer ownership of poor residents in Oakland compare with other US cities?"
   ]
  },
  {
   "cell_type": "code",
   "execution_count": 286,
   "metadata": {
    "collapsed": false
   },
   "outputs": [
    {
     "name": "stdout",
     "output_type": "stream",
     "text": [
      "cilaptop_ind\n",
      "0                58770\n",
      "1               209526\n",
      "Name: n, dtype: int64\n"
     ]
    }
   ],
   "source": [
    "# creating a NO laptop variable\n",
    "oxt = pd.concat([oxt, pd.get_dummies(oxt[\"cilaptop\"])[[2]]], axis = 1)\n",
    "# renaming\n",
    "oxt = oxt.rename(columns = {'Yes':'cilaptop_ind'})\n",
    "\n",
    "print oxt.groupby(by=['cilaptop_ind'])['n'].sum()\n",
    "\n",
    "oxt.loc[(oxt['cilaptop_ind'] == 1), 'no_comp'] = 0\n",
    "oxt.loc[(oxt['cilaptop_ind'] == 0), 'no_comp'] = 1"
   ]
  },
  {
   "cell_type": "code",
   "execution_count": 288,
   "metadata": {
    "collapsed": false
   },
   "outputs": [
    {
     "name": "stdout",
     "output_type": "stream",
     "text": [
      "no_comp\n",
      "0          209526\n",
      "1           58770\n",
      "Name: n, dtype: int64\n"
     ]
    }
   ],
   "source": [
    "print oxt.groupby(by = ['no_comp'])['n'].sum()"
   ]
  },
  {
   "cell_type": "code",
   "execution_count": 289,
   "metadata": {
    "collapsed": false
   },
   "outputs": [
    {
     "name": "stdout",
     "output_type": "stream",
     "text": [
      "city\n",
      "Chicago, IL           45243\n",
      "Cleveland, OH          8109\n",
      "Detroit, MI            9561\n",
      "Flint, MI              1362\n",
      "Manchester, NH         1872\n",
      "Miami, FL              7715\n",
      "Minneapolis, MN        5094\n",
      "New Orleans, LA        9575\n",
      "New York, NY         140629\n",
      "Oakland, CA            9093\n",
      "Providence, RI         3168\n",
      "San Francisco, CA     15451\n",
      "Seattle, WA           11424\n",
      "Name: n, dtype: int64\n"
     ]
    }
   ],
   "source": [
    "# Summarizing computer ownership among the poor in the 6 cities available\n",
    "print oxt.groupby(by = ['city'])['n'].sum() # absolute/sampled numbers\n",
    "# keeping just poor\n",
    "oxt_poor = oxt[oxt.poverty < 100]"
   ]
  },
  {
   "cell_type": "code",
   "execution_count": 290,
   "metadata": {
    "collapsed": false
   },
   "outputs": [
    {
     "name": "stdout",
     "output_type": "stream",
     "text": [
      "city\n",
      "Chicago, IL          0.463431\n",
      "Cleveland, OH        0.546172\n",
      "Detroit, MI          0.504711\n",
      "Flint, MI            0.559227\n",
      "Manchester, NH       0.376820\n",
      "Miami, FL            0.470422\n",
      "Minneapolis, MN      0.397932\n",
      "New Orleans, LA      0.577662\n",
      "New York, NY         0.383169\n",
      "Oakland, CA          0.434421\n",
      "Providence, RI       0.555197\n",
      "San Francisco, CA    0.381865\n",
      "Seattle, WA          0.356036\n",
      "dtype: float64\n"
     ]
    }
   ],
   "source": [
    "# Function to summarize proportion of poor in the major cities that own computer\n",
    "grouped = oxt_poor.groupby('city')\n",
    "minifun = lambda x: np.average(x.no_comp, weights = x.perwt)\n",
    "print str(grouped.apply(minifun))"
   ]
  },
  {
   "cell_type": "code",
   "execution_count": 291,
   "metadata": {
    "collapsed": true
   },
   "outputs": [],
   "source": [
    "# Getting ready to graph\n",
    "comp_graph = pd.DataFrame((grouped.apply(minifun)))\n",
    "comp_graph.rename(columns = {0: 'comp'}, inplace = True)\n",
    "comp_graph['comp'] = comp_graph['comp'] * 100\n",
    "comp_graph = comp_graph.sort(['comp'], ascending = [0])"
   ]
  },
  {
   "cell_type": "code",
   "execution_count": 292,
   "metadata": {
    "collapsed": false,
    "scrolled": true
   },
   "outputs": [
    {
     "data": {
      "image/png": "[encoded data removed]",
      "text/plain": [
       "<matplotlib.figure.Figure at 0x11125dad0>"
      ]
     },
     "metadata": {},
     "output_type": "display_data"
    }
   ],
   "source": [
    "ax = comp_graph['comp'].plot(kind = 'bar', color = ['b', 'b', 'b', 'b', 'b', 'b', 'b', 'r', 'b', 'b', 'b', 'b', 'b'])\n",
    "ax.set_ylabel(\"no computer (%)\")\n",
    "plt.suptitle('Percent of poor residents without a computer by city', size = 16) # INDIVIDUAL LEVEL\n",
    "\n",
    "plt.savefig('/Users/laura/Dropbox/posting/OXTWest/comp_ind.png', bbox_inches = 'tight', dpi = 200)"
   ]
  },
  {
   "cell_type": "code",
   "execution_count": 293,
   "metadata": {
    "collapsed": true
   },
   "outputs": [],
   "source": [
    "# At the household level (\"proportion of poor households with no compuer\")\n",
    "oxt_poor_hh = oxt_poor[oxt_poor['relate'] == 'Head/Householder']"
   ]
  },
  {
   "cell_type": "code",
   "execution_count": 294,
   "metadata": {
    "collapsed": false
   },
   "outputs": [
    {
     "name": "stdout",
     "output_type": "stream",
     "text": [
      "city\n",
      "Chicago, IL          0.479076\n",
      "Cleveland, OH        0.575273\n",
      "Detroit, MI          0.578657\n",
      "Flint, MI            0.609571\n",
      "Manchester, NH       0.376173\n",
      "Miami, FL            0.548430\n",
      "Minneapolis, MN      0.366480\n",
      "New Orleans, LA      0.603201\n",
      "New York, NY         0.417508\n",
      "Oakland, CA          0.484716\n",
      "Providence, RI       0.511022\n",
      "San Francisco, CA    0.423388\n",
      "Seattle, WA          0.266391\n",
      "dtype: float64\n"
     ]
    }
   ],
   "source": [
    "grouped = oxt_poor_hh.groupby('city')\n",
    "minifun = lambda x: np.average(x.no_comp, weights=x.hhwt)\n",
    "print str(grouped.apply(minifun))"
   ]
  },
  {
   "cell_type": "code",
   "execution_count": 295,
   "metadata": {
    "collapsed": false
   },
   "outputs": [
    {
     "name": "stdout",
     "output_type": "stream",
     "text": [
      "                          0\n",
      "city                       \n",
      "Chicago, IL        0.479076\n",
      "Cleveland, OH      0.575273\n",
      "Detroit, MI        0.578657\n",
      "Flint, MI          0.609571\n",
      "Manchester, NH     0.376173\n",
      "Miami, FL          0.548430\n",
      "Minneapolis, MN    0.366480\n",
      "New Orleans, LA    0.603201\n",
      "New York, NY       0.417508\n",
      "Oakland, CA        0.484716\n",
      "Providence, RI     0.511022\n",
      "San Francisco, CA  0.423388\n",
      "Seattle, WA        0.266391\n"
     ]
    }
   ],
   "source": [
    "# getting ready to graph\n",
    "comp_graph_hh = pd.DataFrame((grouped.apply(minifun)))\n",
    "print comp_graph_hh"
   ]
  },
  {
   "cell_type": "code",
   "execution_count": 296,
   "metadata": {
    "collapsed": false
   },
   "outputs": [],
   "source": [
    "comp_graph_hh.rename(columns = {0: 'comp'}, inplace = True)\n",
    "comp_graph_hh['comp'] = comp_graph_hh['comp'] * 100\n",
    "comp_graph_hh = comp_graph_hh.sort(['comp'], ascending = [0])"
   ]
  },
  {
   "cell_type": "code",
   "execution_count": 297,
   "metadata": {
    "collapsed": false
   },
   "outputs": [
    {
     "data": {
      "text/plain": [
       "<matplotlib.text.Text at 0x111199210>"
      ]
     },
     "execution_count": 297,
     "metadata": {},
     "output_type": "execute_result"
    },
    {
     "data": {
      "image/png": "[encoded data removed]",
      "text/plain": [
       "<matplotlib.figure.Figure at 0x10d8568d0>"
      ]
     },
     "metadata": {},
     "output_type": "display_data"
    }
   ],
   "source": [
    "ax = comp_graph_hh['comp'].plot(kind = 'bar', color = ['b', 'b', 'b', 'b', 'b', 'b', 'r', 'b', 'b', 'b', 'b', 'b', 'b'])\n",
    "ax.set_ylabel(\"no computer (%)\")\n",
    "plt.suptitle('Percent of poor households without a computer by city', size=16) # household level"
   ]
  },
  {
   "cell_type": "code",
   "execution_count": null,
   "metadata": {
    "collapsed": true
   },
   "outputs": [],
   "source": []
  },
  {
   "cell_type": "code",
   "execution_count": null,
   "metadata": {
    "collapsed": true
   },
   "outputs": [],
   "source": [
    "# Are there other cities in the East Bay that have data? (Richmond, Pittsburg, Hayward, etc.) NO"
   ]
  },
  {
   "cell_type": "code",
   "execution_count": null,
   "metadata": {
    "collapsed": true
   },
   "outputs": [],
   "source": []
  },
  {
   "cell_type": "code",
   "execution_count": null,
   "metadata": {
    "collapsed": true
   },
   "outputs": [],
   "source": [
    "# What does computer ownership look like with the employment status (EMPSTAT) variable\n",
    "# NOTE: I am doing this just for Oakland"
   ]
  },
  {
   "cell_type": "code",
   "execution_count": 298,
   "metadata": {
    "collapsed": false
   },
   "outputs": [
    {
     "name": "stdout",
     "output_type": "stream",
     "text": [
      "empstat\n",
      "Employed              4493\n",
      "Not in labor force    2587\n",
      "Unemployed             443\n",
      "Name: n, dtype: int64\n"
     ]
    }
   ],
   "source": [
    "print oxt_oakland.groupby(by = ['empstat'])['n'].sum() # absolute/sampled numbers"
   ]
  },
  {
   "cell_type": "code",
   "execution_count": 299,
   "metadata": {
    "collapsed": false
   },
   "outputs": [
    {
     "name": "stdout",
     "output_type": "stream",
     "text": [
      "empstat\n",
      "Employed              0.120885\n",
      "Not in labor force    0.302571\n",
      "Unemployed            0.253451\n",
      "dtype: float64\n"
     ]
    }
   ],
   "source": [
    "# Proportion of each empstat category with computer\n",
    "# just Oakland again because no_comp has been created:\n",
    "oxt_oakland = oxt[oxt['city'] == 'Oakland, CA']\n",
    "grouped = oxt_oakland.groupby('empstat')\n",
    "minifun = lambda x: np.average(x.no_comp, weights = x.perwt)\n",
    "print str(grouped.apply(minifun)) # proportion of Oaklanders without internet access in their home"
   ]
  },
  {
   "cell_type": "code",
   "execution_count": 300,
   "metadata": {
    "collapsed": false
   },
   "outputs": [
    {
     "name": "stdout",
     "output_type": "stream",
     "text": [
      "empstat\n",
      "Employed              0.120145\n",
      "Not in labor force    0.386254\n",
      "Unemployed            0.311451\n",
      "dtype: float64\n"
     ]
    }
   ],
   "source": [
    "# at the household level - whether or not the head of household is employed\n",
    "oxt_oakland_hh = oxt_oakland[oxt_oakland['relate'] == 'Head/Householder']\n",
    "grouped = oxt_oakland_hh.groupby('empstat')\n",
    "minifun = lambda x: np.average(x.no_comp, weights = x.hhwt)\n",
    "print str(grouped.apply(minifun))"
   ]
  },
  {
   "cell_type": "code",
   "execution_count": null,
   "metadata": {
    "collapsed": true
   },
   "outputs": [],
   "source": []
  },
  {
   "cell_type": "code",
   "execution_count": null,
   "metadata": {
    "collapsed": true
   },
   "outputs": [],
   "source": [
    "# What does Internet and computer access look like by race/ethnicity?"
   ]
  },
  {
   "cell_type": "code",
   "execution_count": 301,
   "metadata": {
    "collapsed": false
   },
   "outputs": [
    {
     "name": "stdout",
     "output_type": "stream",
     "text": [
      "race\n",
      "American Indian or Alaska Native      1042\n",
      "Black/Negro                          71323\n",
      "Chinese                              15870\n",
      "Japanese                               908\n",
      "Other Asian or Pacific Islander      16633\n",
      "Other race, nec                      23943\n",
      "Three or more major races             1026\n",
      "Two major races                       7824\n",
      "White                               129727\n",
      "Name: n, dtype: int64\n"
     ]
    }
   ],
   "source": [
    "print oxt.groupby(by = ['race'])['n'].sum() # absolute/sampled numbers"
   ]
  },
  {
   "cell_type": "code",
   "execution_count": 302,
   "metadata": {
    "collapsed": false
   },
   "outputs": [
    {
     "name": "stdout",
     "output_type": "stream",
     "text": [
      "hispan\n",
      "Cuban             3454\n",
      "Mexican          17238\n",
      "Not Hispanic    208901\n",
      "Other            24761\n",
      "Puerto Rican     13942\n",
      "Name: n, dtype: int64\n"
     ]
    }
   ],
   "source": [
    "print oxt.groupby(by = ['hispan'])['n'].sum()"
   ]
  },
  {
   "cell_type": "code",
   "execution_count": 303,
   "metadata": {
    "collapsed": false
   },
   "outputs": [
    {
     "name": "stdout",
     "output_type": "stream",
     "text": [
      "race_var\n",
      "Black only    1882\n",
      "Hispanic      2118\n",
      "Other         2110\n",
      "White only    2983\n",
      "Name: n, dtype: int64\n"
     ]
    },
    {
     "name": "stderr",
     "output_type": "stream",
     "text": [
      "/Users/laura/anaconda/lib/python2.7/site-packages/IPython/kernel/__main__.py:5: SettingWithCopyWarning: A value is trying to be set on a copy of a slice from a DataFrame\n"
     ]
    }
   ],
   "source": [
    "# variable for Black/Negro only, white only, Hispanic origin only, other (including mixed race) - only in Oakland\n",
    "oxt_oakland.loc[(oxt_oakland['race'] == \"Black/Negro\"), 'race_var'] = 'Black only'\n",
    "oxt_oakland.loc[(oxt_oakland['race'] == \"White\"), 'race_var'] = 'White only'\n",
    "oxt_oakland.loc[(oxt_oakland['hispan'] != \"Not Hispanic\"), 'race_var'] = 'Hispanic'\n",
    "oxt_oakland['race_var'].fillna('Other', inplace=True)\n",
    "\n",
    "print oxt_oakland.groupby(by = ['race_var'])['n'].sum()"
   ]
  },
  {
   "cell_type": "code",
   "execution_count": 304,
   "metadata": {
    "collapsed": false
   },
   "outputs": [
    {
     "name": "stdout",
     "output_type": "stream",
     "text": [
      "race_var\n",
      "Black only    0.319171\n",
      "Hispanic      0.247507\n",
      "Other         0.157748\n",
      "White only    0.072315\n",
      "dtype: float64\n"
     ]
    }
   ],
   "source": [
    "# Computer by race/ethnicity\n",
    "grouped = oxt_oakland.groupby('race_var')\n",
    "minifun = lambda x: np.average(x.no_comp, weights = x.perwt)\n",
    "print str(grouped.apply(minifun))"
   ]
  },
  {
   "cell_type": "code",
   "execution_count": 305,
   "metadata": {
    "collapsed": false
   },
   "outputs": [
    {
     "name": "stdout",
     "output_type": "stream",
     "text": [
      "race_var\n",
      "Black only    0.232598\n",
      "Hispanic      0.219699\n",
      "Other         0.112911\n",
      "White only    0.049504\n",
      "dtype: float64\n"
     ]
    }
   ],
   "source": [
    "# Internet by race/ethnicity\n",
    "grouped = oxt_oakland.groupby('race_var')\n",
    "minifun = lambda x: np.average(x.no_internet, weights = x.perwt)\n",
    "print str(grouped.apply(minifun))"
   ]
  },
  {
   "cell_type": "code",
   "execution_count": 306,
   "metadata": {
    "collapsed": false
   },
   "outputs": [
    {
     "name": "stdout",
     "output_type": "stream",
     "text": [
      "race_var\n",
      "Black only    0.356790\n",
      "Hispanic      0.266187\n",
      "Other         0.203249\n",
      "White only    0.075617\n",
      "dtype: float64\n"
     ]
    }
   ],
   "source": [
    "# At the household level - first computer by race/ethnicity\n",
    "oxt_oakland_hh = oxt_oakland[oxt_oakland['relate'] == 'Head/Householder']\n",
    "grouped = oxt_oakland_hh.groupby('race_var')\n",
    "minifun = lambda x: np.average(x.no_comp, weights = x.hhwt)\n",
    "print str(grouped.apply(minifun))"
   ]
  },
  {
   "cell_type": "code",
   "execution_count": 307,
   "metadata": {
    "collapsed": false
   },
   "outputs": [
    {
     "name": "stdout",
     "output_type": "stream",
     "text": [
      "race_var\n",
      "Black only    0.322201\n",
      "Hispanic      0.246084\n",
      "Other         0.158864\n",
      "White only    0.074195\n",
      "dtype: float64\n"
     ]
    }
   ],
   "source": [
    "# At the household level - then internet by race/ethnicity\n",
    "oxt_oakland_hh = oxt_oakland[oxt_oakland['relate'] == 'Head/Householder']\n",
    "grouped = oxt_oakland.groupby('race_var')\n",
    "minifun = lambda x: np.average(x.no_comp, weights = x.hhwt)\n",
    "print str(grouped.apply(minifun))"
   ]
  },
  {
   "cell_type": "code",
   "execution_count": 308,
   "metadata": {
    "collapsed": false
   },
   "outputs": [
    {
     "data": {
      "text/html": [
       "<div style=\"max-height:1000px;max-width:1500px;overflow:auto;\">\n",
       "<table border=\"1\" class=\"dataframe\">\n",
       "  <thead>\n",
       "    <tr style=\"text-align: right;\">\n",
       "      <th></th>\n",
       "      <th>year</th>\n",
       "      <th>datanum</th>\n",
       "      <th>serial</th>\n",
       "      <th>hhwt</th>\n",
       "      <th>city</th>\n",
       "      <th>gq</th>\n",
       "      <th>rentgrs</th>\n",
       "      <th>foodstmp</th>\n",
       "      <th>lingisol</th>\n",
       "      <th>cilaptop</th>\n",
       "      <th>...</th>\n",
       "      <th>speakeng</th>\n",
       "      <th>empstat</th>\n",
       "      <th>empstatd</th>\n",
       "      <th>poverty</th>\n",
       "      <th>n</th>\n",
       "      <th>no_internet</th>\n",
       "      <th>age_ind</th>\n",
       "      <th>cilaptop_ind</th>\n",
       "      <th>no_comp</th>\n",
       "      <th>race_var</th>\n",
       "    </tr>\n",
       "  </thead>\n",
       "  <tbody>\n",
       "    <tr>\n",
       "      <th>0 </th>\n",
       "      <td> 2013</td>\n",
       "      <td> 1</td>\n",
       "      <td> 66410</td>\n",
       "      <td> 97</td>\n",
       "      <td> Oakland, CA</td>\n",
       "      <td> Households under 1970 definition</td>\n",
       "      <td> 790</td>\n",
       "      <td> Yes</td>\n",
       "      <td>     Linguistically isolated</td>\n",
       "      <td>  No</td>\n",
       "      <td>...</td>\n",
       "      <td>        Yes, but not well</td>\n",
       "      <td> Not in labor force</td>\n",
       "      <td>   Not in Labor Force</td>\n",
       "      <td>  60</td>\n",
       "      <td> 1</td>\n",
       "      <td> 1</td>\n",
       "      <td>   61+</td>\n",
       "      <td> 0</td>\n",
       "      <td> 1</td>\n",
       "      <td>      Other</td>\n",
       "    </tr>\n",
       "    <tr>\n",
       "      <th>1 </th>\n",
       "      <td> 2013</td>\n",
       "      <td> 1</td>\n",
       "      <td> 66410</td>\n",
       "      <td> 97</td>\n",
       "      <td> Oakland, CA</td>\n",
       "      <td> Households under 1970 definition</td>\n",
       "      <td> 790</td>\n",
       "      <td> Yes</td>\n",
       "      <td>     Linguistically isolated</td>\n",
       "      <td>  No</td>\n",
       "      <td>...</td>\n",
       "      <td>   Does not speak English</td>\n",
       "      <td> Not in labor force</td>\n",
       "      <td>   Not in Labor Force</td>\n",
       "      <td>  60</td>\n",
       "      <td> 1</td>\n",
       "      <td> 1</td>\n",
       "      <td>   61+</td>\n",
       "      <td> 0</td>\n",
       "      <td> 1</td>\n",
       "      <td>      Other</td>\n",
       "    </tr>\n",
       "    <tr>\n",
       "      <th>13</th>\n",
       "      <td> 2013</td>\n",
       "      <td> 1</td>\n",
       "      <td> 66474</td>\n",
       "      <td> 62</td>\n",
       "      <td> Oakland, CA</td>\n",
       "      <td> Households under 1970 definition</td>\n",
       "      <td>   0</td>\n",
       "      <td>  No</td>\n",
       "      <td> Not linguistically isolated</td>\n",
       "      <td> Yes</td>\n",
       "      <td>...</td>\n",
       "      <td> Yes, speaks only English</td>\n",
       "      <td> Not in labor force</td>\n",
       "      <td>   Not in Labor Force</td>\n",
       "      <td> 117</td>\n",
       "      <td> 1</td>\n",
       "      <td> 0</td>\n",
       "      <td>   61+</td>\n",
       "      <td> 1</td>\n",
       "      <td> 0</td>\n",
       "      <td> Black only</td>\n",
       "    </tr>\n",
       "    <tr>\n",
       "      <th>18</th>\n",
       "      <td> 2013</td>\n",
       "      <td> 1</td>\n",
       "      <td> 66558</td>\n",
       "      <td> 55</td>\n",
       "      <td> Oakland, CA</td>\n",
       "      <td> Households under 1970 definition</td>\n",
       "      <td>   0</td>\n",
       "      <td>  No</td>\n",
       "      <td> Not linguistically isolated</td>\n",
       "      <td> Yes</td>\n",
       "      <td>...</td>\n",
       "      <td>         Yes, speaks well</td>\n",
       "      <td> Not in labor force</td>\n",
       "      <td>   Not in Labor Force</td>\n",
       "      <td> 220</td>\n",
       "      <td> 1</td>\n",
       "      <td> 0</td>\n",
       "      <td>   61+</td>\n",
       "      <td> 1</td>\n",
       "      <td> 0</td>\n",
       "      <td>      Other</td>\n",
       "    </tr>\n",
       "    <tr>\n",
       "      <th>19</th>\n",
       "      <td> 2013</td>\n",
       "      <td> 1</td>\n",
       "      <td> 66558</td>\n",
       "      <td> 55</td>\n",
       "      <td> Oakland, CA</td>\n",
       "      <td> Households under 1970 definition</td>\n",
       "      <td>   0</td>\n",
       "      <td>  No</td>\n",
       "      <td> Not linguistically isolated</td>\n",
       "      <td> Yes</td>\n",
       "      <td>...</td>\n",
       "      <td>         Yes, speaks well</td>\n",
       "      <td>           Employed</td>\n",
       "      <td> Has job, not working</td>\n",
       "      <td> 220</td>\n",
       "      <td> 1</td>\n",
       "      <td> 0</td>\n",
       "      <td> 50-59</td>\n",
       "      <td> 1</td>\n",
       "      <td> 0</td>\n",
       "      <td>      Other</td>\n",
       "    </tr>\n",
       "  </tbody>\n",
       "</table>\n",
       "<p>5 rows × 42 columns</p>\n",
       "</div>"
      ],
      "text/plain": [
       "    year  datanum  serial  hhwt         city  \\\n",
       "0   2013        1   66410    97  Oakland, CA   \n",
       "1   2013        1   66410    97  Oakland, CA   \n",
       "13  2013        1   66474    62  Oakland, CA   \n",
       "18  2013        1   66558    55  Oakland, CA   \n",
       "19  2013        1   66558    55  Oakland, CA   \n",
       "\n",
       "                                  gq  rentgrs foodstmp  \\\n",
       "0   Households under 1970 definition      790      Yes   \n",
       "1   Households under 1970 definition      790      Yes   \n",
       "13  Households under 1970 definition        0       No   \n",
       "18  Households under 1970 definition        0       No   \n",
       "19  Households under 1970 definition        0       No   \n",
       "\n",
       "                       lingisol cilaptop   ...                     speakeng  \\\n",
       "0       Linguistically isolated       No   ...            Yes, but not well   \n",
       "1       Linguistically isolated       No   ...       Does not speak English   \n",
       "13  Not linguistically isolated      Yes   ...     Yes, speaks only English   \n",
       "18  Not linguistically isolated      Yes   ...             Yes, speaks well   \n",
       "19  Not linguistically isolated      Yes   ...             Yes, speaks well   \n",
       "\n",
       "               empstat              empstatd poverty  n no_internet age_ind  \\\n",
       "0   Not in labor force    Not in Labor Force      60  1           1     61+   \n",
       "1   Not in labor force    Not in Labor Force      60  1           1     61+   \n",
       "13  Not in labor force    Not in Labor Force     117  1           0     61+   \n",
       "18  Not in labor force    Not in Labor Force     220  1           0     61+   \n",
       "19            Employed  Has job, not working     220  1           0   50-59   \n",
       "\n",
       "   cilaptop_ind no_comp    race_var  \n",
       "0             0       1       Other  \n",
       "1             0       1       Other  \n",
       "13            1       0  Black only  \n",
       "18            1       0       Other  \n",
       "19            1       0       Other  \n",
       "\n",
       "[5 rows x 42 columns]"
      ]
     },
     "execution_count": 308,
     "metadata": {},
     "output_type": "execute_result"
    }
   ],
   "source": [
    "len(oxt_oakland.index)\n",
    "oxt_oakland.head()"
   ]
  }
 ],
 "metadata": {
  "kernelspec": {
   "display_name": "Python 2",
   "language": "python",
   "name": "python2"
  },
  "language_info": {
   "codemirror_mode": {
    "name": "ipython",
    "version": 2
   },
   "file_extension": ".py",
   "mimetype": "text/x-python",
   "name": "python",
   "nbconvert_exporter": "python",
   "pygments_lexer": "ipython2",
   "version": "2.7.9"
  }
 },
 "nbformat": 4,
 "nbformat_minor": 0
}
