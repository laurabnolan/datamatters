{
 "cells": [
  {
   "cell_type": "code",
   "execution_count": 1,
   "metadata": {
    "collapsed": true
   },
   "outputs": [],
   "source": [
    "# Code for Medium posting on internet use - August 18, 2016\n",
    "# American Community Survey (2013-2014) data from IPUMS\n",
    "# Laura Nolan"
   ]
  },
  {
   "cell_type": "code",
   "execution_count": 2,
   "metadata": {
    "collapsed": false
   },
   "outputs": [
    {
     "name": "stdout",
     "output_type": "stream",
     "text": [
      "Populating the interactive namespace from numpy and matplotlib\n"
     ]
    }
   ],
   "source": [
    "import csv\n",
    "import numpy as np\n",
    "import pandas as pd\n",
    "import os\n",
    "import matplotlib.pyplot as plt\n",
    "import matplotlib.patches as mpatches\n",
    "% pylab inline"
   ]
  },
  {
   "cell_type": "code",
   "execution_count": 3,
   "metadata": {
    "collapsed": true
   },
   "outputs": [],
   "source": [
    "mypath = # redacted\n",
    "path_acs_internet = os.path.join(mypath, 'internet.csv') # just Oakland"
   ]
  },
  {
   "cell_type": "code",
   "execution_count": 4,
   "metadata": {
    "collapsed": false
   },
   "outputs": [
    {
     "name": "stdout",
     "output_type": "stream",
     "text": [
      "   year  datanum  serial  hhwt  repwt  city                                gq  \\\n",
      "0  2013        1   66410    97      1  4930  Households under 1970 definition   \n",
      "1  2013        1   66410    97      1  4930  Households under 1970 definition   \n",
      "2  2013        1   66474    62      1  4930  Households under 1970 definition   \n",
      "3  2013        1   66558    55      1  4930  Households under 1970 definition   \n",
      "4  2013        1   66558    55      1  4930  Households under 1970 definition   \n",
      "\n",
      "  cilaptop cihand ciothcomp    ...     repwt78 repwt79 repwt80 pernum perwt  \\\n",
      "0       No     No        No    ...         104      85      92      1    97   \n",
      "1       No     No        No    ...         104      85      92      2    80   \n",
      "2      Yes     No        No    ...         105     121      68      1    62   \n",
      "3      Yes     No        No    ...          57      62     103      1    56   \n",
      "4      Yes     No        No    ...          57      62     103      2    54   \n",
      "\n",
      "  age educ educd  ftotinc  poverty  \n",
      "0  64    2    23     9400       60  \n",
      "1  66    0     2     9400       60  \n",
      "2  82   11   114    13020      117  \n",
      "3  62   10   101    41000      220  \n",
      "4  56   10   101    41000      220  \n",
      "\n",
      "[5 rows x 105 columns]\n",
      "9093\n"
     ]
    }
   ],
   "source": [
    "# Household-level internet use data\n",
    "internet_all = pd.read_csv(path_acs_internet)\n",
    "print internet_all.head() \n",
    "internet_all.age = internet_all.age.astype(int)\n",
    "\n",
    "print len(internet_all.axes[0])"
   ]
  },
  {
   "cell_type": "code",
   "execution_count": 5,
   "metadata": {
    "collapsed": false
   },
   "outputs": [
    {
     "name": "stdout",
     "output_type": "stream",
     "text": [
      "['year', 'datanum', 'serial', 'hhwt', 'repwt', 'city', 'gq', 'cilaptop', 'cihand', 'ciothcomp', 'cinethh', 'cimodem', 'cisat', 'cidsl', 'cifiber', 'cibrdbnd', 'cidial', 'ciothsvc', 'repwt1', 'repwt2', 'repwt3', 'repwt4', 'repwt5', 'repwt6', 'repwt7', 'repwt8', 'repwt9', 'repwt10', 'repwt11', 'repwt12', 'repwt13', 'repwt14', 'repwt15', 'repwt16', 'repwt17', 'repwt18', 'repwt19', 'repwt20', 'repwt21', 'repwt22', 'repwt23', 'repwt24', 'repwt25', 'repwt26', 'repwt27', 'repwt28', 'repwt29', 'repwt30', 'repwt31', 'repwt32', 'repwt33', 'repwt34', 'repwt35', 'repwt36', 'repwt37', 'repwt38', 'repwt39', 'repwt40', 'repwt41', 'repwt42', 'repwt43', 'repwt44', 'repwt45', 'repwt46', 'repwt47', 'repwt48', 'repwt49', 'repwt50', 'repwt51', 'repwt52', 'repwt53', 'repwt54', 'repwt55', 'repwt56', 'repwt57', 'repwt58', 'repwt59', 'repwt60', 'repwt61', 'repwt62', 'repwt63', 'repwt64', 'repwt65', 'repwt66', 'repwt67', 'repwt68', 'repwt69', 'repwt70', 'repwt71', 'repwt72', 'repwt73', 'repwt74', 'repwt75', 'repwt76', 'repwt77', 'repwt78', 'repwt79', 'repwt80', 'pernum', 'perwt', 'age', 'educ', 'educd', 'ftotinc', 'poverty']\n",
      "9093\n"
     ]
    }
   ],
   "source": [
    "# list of variables\n",
    "print list(internet_all.columns.values)\n",
    "print len(internet_all.axes[0])"
   ]
  },
  {
   "cell_type": "code",
   "execution_count": 6,
   "metadata": {
    "collapsed": false
   },
   "outputs": [
    {
     "name": "stdout",
     "output_type": "stream",
     "text": [
      "3984\n"
     ]
    }
   ],
   "source": [
    "# keeping just one person per household\n",
    "internet = internet_all.groupby('serial').nth(0) \n",
    "print len(internet.axes[0]) # sample size"
   ]
  },
  {
   "cell_type": "code",
   "execution_count": 7,
   "metadata": {
    "collapsed": true
   },
   "outputs": [],
   "source": [
    "internet.hhwt = internet.hhwt.astype(int)"
   ]
  },
  {
   "cell_type": "code",
   "execution_count": 8,
   "metadata": {
    "collapsed": false
   },
   "outputs": [
    {
     "name": "stdout",
     "output_type": "stream",
     "text": [
      "cilaptop\n",
      "N/A (GQ)     4.038047\n",
      "No          19.983585\n",
      "Yes         75.978368\n",
      "Name: hhwt, dtype: float64\n"
     ]
    }
   ],
   "source": [
    "print internet.groupby(by=['cilaptop'])['hhwt'].sum().div(internet.hhwt.sum()) * 100"
   ]
  },
  {
   "cell_type": "code",
   "execution_count": 9,
   "metadata": {
    "collapsed": false
   },
   "outputs": [],
   "source": [
    "# turning cilaptop variable into yes(1)/no(0) indicator\n",
    "internet = pd.concat([internet, pd.get_dummies(internet[\"cilaptop\"])[[2]]], axis = 1)\n",
    "# renaming\n",
    "internet = internet.rename(columns = {'Yes':'cilaptop_ind'})"
   ]
  },
  {
   "cell_type": "code",
   "execution_count": 10,
   "metadata": {
    "collapsed": false
   },
   "outputs": [
    {
     "data": {
      "text/plain": [
       "0.75978367604168195"
      ]
     },
     "execution_count": 10,
     "metadata": {},
     "output_type": "execute_result"
    }
   ],
   "source": [
    "np.average(internet.cilaptop_ind, weights = internet.hhwt) # 76% of oakland households have computer/laptop at home"
   ]
  },
  {
   "cell_type": "code",
   "execution_count": 11,
   "metadata": {
    "collapsed": false
   },
   "outputs": [
    {
     "name": "stdout",
     "output_type": "stream",
     "text": [
      "cinethh\n",
      "0           4.038047\n",
      "1          74.267122\n",
      "2           3.576380\n",
      "3          18.118451\n",
      "Name: hhwt, dtype: float64\n"
     ]
    }
   ],
   "source": [
    "# Weighted table - access to internet\n",
    "#label 0 `\"N/A (GQ)\"'\n",
    "#label 1 `\"Yes, with a subscription to an Internet Service\"', add\n",
    "#label 2 `\"Yes, without a subscription to an Internet Service\"', add\n",
    "#label 3 `\"No Internet access at this house, apartment, or mobile home\"', add\n",
    "\n",
    "# weighted table\n",
    "print internet.groupby(by=['cinethh'])['hhwt'].sum().div(internet.hhwt.sum()) * 100\n",
    "# 22% of Oakland households either don't have internet or have it without an internet service"
   ]
  },
  {
   "cell_type": "code",
   "execution_count": 12,
   "metadata": {
    "collapsed": false
   },
   "outputs": [
    {
     "name": "stdout",
     "output_type": "stream",
     "text": [
      "        age  cibrdbnd    cidial     cidsl   cifiber cihand cilaptop   cimodem  \\\n",
      "serial                                                                          \n",
      "66407    94  N/A (GQ)  N/A (GQ)  N/A (GQ)  N/A (GQ)     No       No  N/A (GQ)   \n",
      "66410    64  N/A (GQ)  N/A (GQ)  N/A (GQ)  N/A (GQ)     No       No  N/A (GQ)   \n",
      "66474    82        No        No       Yes        No     No      Yes        No   \n",
      "66558    62        No        No       Yes        No     No      Yes        No   \n",
      "66610    54       Yes        No       Yes        No    Yes      Yes        No   \n",
      "\n",
      "        cinethh ciothcomp    ...    repwt76 repwt77  repwt78  repwt79  repwt8  \\\n",
      "serial                       ...                                                \n",
      "66407         3        No    ...         89      17       50       68      54   \n",
      "66410         3        No    ...         92      28      104       85     110   \n",
      "66474         1        No    ...         63      18      105      121     120   \n",
      "66558         1        No    ...         58      57       57       62      56   \n",
      "66610         1        No    ...        151      32       26       23      97   \n",
      "\n",
      "        repwt80  repwt9  year  cilaptop_ind        internet_source  \n",
      "serial                                                              \n",
      "66407        68      56  2014             0  Mobile broadband plan  \n",
      "66410        92     159  2013             0  Mobile broadband plan  \n",
      "66474        68     109  2013             1            DSL service  \n",
      "66558       103      55  2013             1            DSL service  \n",
      "66610        94      26  2013             1            DSL service  \n",
      "\n",
      "[5 rows x 106 columns]\n"
     ]
    }
   ],
   "source": [
    "# type of internet access?\n",
    "\n",
    "#label var cimodem   `\"Cable internet service\"'\n",
    "#label var cisat     `\"Satellite internet service\"'\n",
    "#label var cidsl     `\"DSL service\"'\n",
    "#label var cifiber   `\"Fiber-optic Internet service\"'\n",
    "#label var cibrdbnd  `\"Mobile broadband plan\"'\n",
    "#label var cidial    `\"Dial-up service\"'\n",
    "#label var ciothsvc  `\"Other internet service\"'\n",
    "\n",
    "def internet_source (row):\n",
    "    if row['cimodem'] == 'Yes':\n",
    "        return 'Cable internet service'\n",
    "    if row['cisat'] == 'Yes':\n",
    "        return 'Satellite internet service'\n",
    "    if row['cidsl'] == 'Yes':\n",
    "        return 'DSL service'\n",
    "    if row['cifiber'] == 'Yes':\n",
    "        return 'Fiber-optic Internet service'\n",
    "    if row['cibrdbnd']:\n",
    "        return 'Mobile broadband plan'\n",
    "    if row['cidial'] == 'Yes':\n",
    "        return 'Dial-up service'\n",
    "    if row['ciothsvc'] == 'Yes':\n",
    "        return 'Other internet service'\n",
    "    \n",
    "internet['internet_source'] = internet.apply (lambda row: internet_source (row), axis=1)\n",
    "\n",
    "internet.internet_source.head()\n",
    "print internet.head()"
   ]
  },
  {
   "cell_type": "code",
   "execution_count": 24,
   "metadata": {
    "collapsed": false
   },
   "outputs": [
    {
     "name": "stdout",
     "output_type": "stream",
     "text": [
      "internet_source\n",
      "Cable internet service          60.152901\n",
      "DSL service                     24.601170\n",
      "Fiber-optic Internet service     3.776355\n",
      "Mobile broadband plan            8.512192\n",
      "Satellite internet service       2.957382\n",
      "Name: hhwt, dtype: float64\n"
     ]
    }
   ],
   "source": [
    "# keeping only those with internet service at home; distribution of service providers\n",
    "print internet[internet['cinethh'] == 1].groupby(by=['internet_source'])['hhwt'].sum().div(internet[internet['cinethh'] == 1].hhwt.sum()) * 100"
   ]
  },
  {
   "cell_type": "code",
   "execution_count": 25,
   "metadata": {
    "collapsed": false
   },
   "outputs": [
    {
     "name": "stdout",
     "output_type": "stream",
     "text": [
      "internet_source\n",
      "Cable internet service          152407\n",
      "DSL service                      62331\n",
      "Fiber-optic Internet service      9568\n",
      "Mobile broadband plan            21567\n",
      "Satellite internet service        7493\n",
      "Name: hhwt, dtype: int64\n"
     ]
    }
   ],
   "source": [
    "# weighted counts for each type of internet service for pie graph\n",
    "n = internet[internet['cinethh'] == 1].groupby(by=['internet_source'])['hhwt'].sum()\n",
    "print n"
   ]
  },
  {
   "cell_type": "code",
   "execution_count": 26,
   "metadata": {
    "collapsed": false
   },
   "outputs": [
    {
     "data": {
      "image/png": "[encoded data removed]",
      "text/plain": [
       "<matplotlib.figure.Figure at 0x108f18d90>"
      ]
     },
     "metadata": {},
     "output_type": "display_data"
    }
   ],
   "source": [
    "fig, ax = plt.subplots(figsize=(4,3))\n",
    "ax = pd.Series(n).plot(kind='pie', figsize=(6, 6), autopct='%.1f', colormap='Set2')\n",
    "ax.set_ylabel('')\n",
    "ax.set_title('Distribution of Internet Service Providers \\n Among Households with Internet in Oakland, CA (%)', fontsize=20)\n",
    "plt.savefig('/Users/laura/Dropbox/posting/internet_use/int-dist.png', bbox_inches='tight', dpi = 150)"
   ]
  },
  {
   "cell_type": "code",
   "execution_count": 27,
   "metadata": {
    "collapsed": false
   },
   "outputs": [
    {
     "name": "stdout",
     "output_type": "stream",
     "text": [
      "0.207292872741\n"
     ]
    }
   ],
   "source": [
    "# internet access among the poor\n",
    "internet['poverty_ind'] = (internet.poverty < 100).astype(int)\n",
    "print np.average(internet.poverty_ind, weights = internet.hhwt) # Oakland proportion poor (2013-2014 ACS)"
   ]
  },
  {
   "cell_type": "code",
   "execution_count": 28,
   "metadata": {
    "collapsed": false
   },
   "outputs": [
    {
     "name": "stdout",
     "output_type": "stream",
     "text": [
      "Internet access, non-poor\n",
      "cinethh\n",
      "0          17.429545\n",
      "1          41.507940\n",
      "2           6.136965\n",
      "3          34.925550\n",
      "Name: hhwt, dtype: float64\n",
      "internet access, poor\n",
      "cinethh\n",
      "0           0.536171\n",
      "1          82.833646\n",
      "2           2.906788\n",
      "3          13.723395\n",
      "Name: hhwt, dtype: float64\n"
     ]
    }
   ],
   "source": [
    "# OVER A THIRD of the poor households don't have internet\n",
    "print \"Internet access, non-poor\"\n",
    "print internet[internet['poverty_ind'] == 1].groupby(by=['cinethh'])['hhwt'].sum().div(internet[internet['poverty_ind'] == 1].hhwt.sum()) * 100\n",
    "print \"internet access, poor\"\n",
    "print internet[internet['poverty_ind'] == 0].groupby(by=['cinethh'])['hhwt'].sum().div(internet[internet['poverty_ind'] == 0].hhwt.sum()) * 100"
   ]
  },
  {
   "cell_type": "code",
   "execution_count": 29,
   "metadata": {
    "collapsed": false
   },
   "outputs": [
    {
     "name": "stdout",
     "output_type": "stream",
     "text": [
      "3945\n"
     ]
    },
    {
     "data": {
      "text/plain": [
       "cinethh\n",
       "0           3.608580\n",
       "1          74.599497\n",
       "2           3.592386\n",
       "3          18.199538\n",
       "Name: hhwt, dtype: float64"
      ]
     },
     "execution_count": 29,
     "metadata": {},
     "output_type": "execute_result"
    }
   ],
   "source": [
    "# internet access among households with children...\n",
    "# keep just children, then keep one child per household\n",
    "internet_child = internet_all[internet_all['age'] > 18]\n",
    "internet_child = internet_child.groupby('serial').nth(0) \n",
    "print len(internet_child.axes[0])\n",
    "\n",
    "internet_child.groupby(by=['cinethh'])['hhwt'].sum().div(internet_child.hhwt.sum()) * 100"
   ]
  }
 ],
 "metadata": {
  "kernelspec": {
   "display_name": "Python 2",
   "language": "python",
   "name": "python2"
  },
  "language_info": {
   "codemirror_mode": {
    "name": "ipython",
    "version": 2
   },
   "file_extension": ".py",
   "mimetype": "text/x-python",
   "name": "python",
   "nbconvert_exporter": "python",
   "pygments_lexer": "ipython2",
   "version": "2.7.9"
  }
 },
 "nbformat": 4,
 "nbformat_minor": 0
}
