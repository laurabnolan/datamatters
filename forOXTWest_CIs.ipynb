{
 "cells": [
  {
   "cell_type": "code",
   "execution_count": 450,
   "metadata": {
    "collapsed": true
   },
   "outputs": [],
   "source": [
    "# Computing confidence intervals for OXT West to determine the importance of sample size, confidence in estimates\n",
    "# In order to compute the correct standard errors, I use the 80 household and individual-level replicate weights\n",
    "# from the American Community Survey data (as described here by IPUMS: https://usa.ipums.org/usa/)\n",
    "# see https://stharrold.github.io/20160110-etl-census-with-python.html for computation of the standard erorrs using\n",
    "    # replicate weights"
   ]
  },
  {
   "cell_type": "code",
   "execution_count": 451,
   "metadata": {
    "collapsed": false
   },
   "outputs": [
    {
     "name": "stdout",
     "output_type": "stream",
     "text": [
      "Populating the interactive namespace from numpy and matplotlib\n"
     ]
    },
    {
     "name": "stderr",
     "output_type": "stream",
     "text": [
      "WARNING: pylab import has clobbered these variables: ['test']\n",
      "`%matplotlib` prevents importing * from pylab and numpy\n"
     ]
    }
   ],
   "source": [
    "import csv\n",
    "import numpy as np\n",
    "import pandas as pd\n",
    "import os\n",
    "import matplotlib.pyplot as plt\n",
    "import matplotlib.patches as mpatches\n",
    "% pylab inline"
   ]
  },
  {
   "cell_type": "code",
   "execution_count": 452,
   "metadata": {
    "collapsed": true
   },
   "outputs": [],
   "source": [
    "mypath = '/Users/laura/Dropbox/posting/OXTWest'\n",
    "path_acs_internet = os.path.join(mypath, 'oxtwest_wrepwts.csv')"
   ]
  },
  {
   "cell_type": "code",
   "execution_count": 453,
   "metadata": {
    "collapsed": false
   },
   "outputs": [],
   "source": [
    "oxt = pd.read_csv(path_acs_internet)"
   ]
  },
  {
   "cell_type": "code",
   "execution_count": 454,
   "metadata": {
    "collapsed": false
   },
   "outputs": [
    {
     "data": {
      "text/html": [
       "<div style=\"max-height:1000px;max-width:1500px;overflow:auto;\">\n",
       "<table border=\"1\" class=\"dataframe\">\n",
       "  <thead>\n",
       "    <tr style=\"text-align: right;\">\n",
       "      <th></th>\n",
       "      <th>year</th>\n",
       "      <th>datanum</th>\n",
       "      <th>serial</th>\n",
       "      <th>hhwt</th>\n",
       "      <th>repwt</th>\n",
       "      <th>city</th>\n",
       "      <th>gq</th>\n",
       "      <th>rentgrs</th>\n",
       "      <th>foodstmp</th>\n",
       "      <th>lingisol</th>\n",
       "      <th>...</th>\n",
       "      <th>repwtp71</th>\n",
       "      <th>repwtp72</th>\n",
       "      <th>repwtp73</th>\n",
       "      <th>repwtp74</th>\n",
       "      <th>repwtp75</th>\n",
       "      <th>repwtp76</th>\n",
       "      <th>repwtp77</th>\n",
       "      <th>repwtp78</th>\n",
       "      <th>repwtp79</th>\n",
       "      <th>repwtp80</th>\n",
       "    </tr>\n",
       "  </thead>\n",
       "  <tbody>\n",
       "    <tr>\n",
       "      <th>0</th>\n",
       "      <td> 2013</td>\n",
       "      <td> 1</td>\n",
       "      <td> 66410</td>\n",
       "      <td> 97</td>\n",
       "      <td> 1</td>\n",
       "      <td>       Oakland, CA</td>\n",
       "      <td> Households under 1970 definition</td>\n",
       "      <td>  790</td>\n",
       "      <td> Yes</td>\n",
       "      <td>     Linguistically isolated</td>\n",
       "      <td>...</td>\n",
       "      <td> 176</td>\n",
       "      <td> 108</td>\n",
       "      <td> 164</td>\n",
       "      <td> 172</td>\n",
       "      <td> 29</td>\n",
       "      <td> 92</td>\n",
       "      <td> 28</td>\n",
       "      <td> 104</td>\n",
       "      <td>  84</td>\n",
       "      <td>  92</td>\n",
       "    </tr>\n",
       "    <tr>\n",
       "      <th>1</th>\n",
       "      <td> 2013</td>\n",
       "      <td> 1</td>\n",
       "      <td> 66410</td>\n",
       "      <td> 97</td>\n",
       "      <td> 1</td>\n",
       "      <td>       Oakland, CA</td>\n",
       "      <td> Households under 1970 definition</td>\n",
       "      <td>  790</td>\n",
       "      <td> Yes</td>\n",
       "      <td>     Linguistically isolated</td>\n",
       "      <td>...</td>\n",
       "      <td> 136</td>\n",
       "      <td>  94</td>\n",
       "      <td> 132</td>\n",
       "      <td> 144</td>\n",
       "      <td> 24</td>\n",
       "      <td> 71</td>\n",
       "      <td> 26</td>\n",
       "      <td>  98</td>\n",
       "      <td>  72</td>\n",
       "      <td>  78</td>\n",
       "    </tr>\n",
       "    <tr>\n",
       "      <th>2</th>\n",
       "      <td> 2013</td>\n",
       "      <td> 1</td>\n",
       "      <td> 66434</td>\n",
       "      <td> 66</td>\n",
       "      <td> 1</td>\n",
       "      <td> San Francisco, CA</td>\n",
       "      <td> Households under 1970 definition</td>\n",
       "      <td>    0</td>\n",
       "      <td>  No</td>\n",
       "      <td> Not linguistically isolated</td>\n",
       "      <td>...</td>\n",
       "      <td>  22</td>\n",
       "      <td>  19</td>\n",
       "      <td>  71</td>\n",
       "      <td>  67</td>\n",
       "      <td> 60</td>\n",
       "      <td> 59</td>\n",
       "      <td> 95</td>\n",
       "      <td>  19</td>\n",
       "      <td>  68</td>\n",
       "      <td>  18</td>\n",
       "    </tr>\n",
       "    <tr>\n",
       "      <th>3</th>\n",
       "      <td> 2013</td>\n",
       "      <td> 1</td>\n",
       "      <td> 66436</td>\n",
       "      <td> 61</td>\n",
       "      <td> 1</td>\n",
       "      <td> San Francisco, CA</td>\n",
       "      <td> Households under 1970 definition</td>\n",
       "      <td> 2170</td>\n",
       "      <td> Yes</td>\n",
       "      <td> Not linguistically isolated</td>\n",
       "      <td>...</td>\n",
       "      <td>  65</td>\n",
       "      <td>  60</td>\n",
       "      <td>  18</td>\n",
       "      <td>  53</td>\n",
       "      <td> 16</td>\n",
       "      <td> 66</td>\n",
       "      <td> 80</td>\n",
       "      <td>  68</td>\n",
       "      <td> 113</td>\n",
       "      <td> 112</td>\n",
       "    </tr>\n",
       "    <tr>\n",
       "      <th>4</th>\n",
       "      <td> 2013</td>\n",
       "      <td> 1</td>\n",
       "      <td> 66436</td>\n",
       "      <td> 61</td>\n",
       "      <td> 1</td>\n",
       "      <td> San Francisco, CA</td>\n",
       "      <td> Households under 1970 definition</td>\n",
       "      <td> 2170</td>\n",
       "      <td> Yes</td>\n",
       "      <td> Not linguistically isolated</td>\n",
       "      <td>...</td>\n",
       "      <td> 103</td>\n",
       "      <td>  87</td>\n",
       "      <td>  24</td>\n",
       "      <td>  89</td>\n",
       "      <td> 29</td>\n",
       "      <td> 94</td>\n",
       "      <td> 86</td>\n",
       "      <td> 107</td>\n",
       "      <td> 148</td>\n",
       "      <td> 139</td>\n",
       "    </tr>\n",
       "  </tbody>\n",
       "</table>\n",
       "<p>5 rows × 198 columns</p>\n",
       "</div>"
      ],
      "text/plain": [
       "   year  datanum  serial  hhwt  repwt               city  \\\n",
       "0  2013        1   66410    97      1        Oakland, CA   \n",
       "1  2013        1   66410    97      1        Oakland, CA   \n",
       "2  2013        1   66434    66      1  San Francisco, CA   \n",
       "3  2013        1   66436    61      1  San Francisco, CA   \n",
       "4  2013        1   66436    61      1  San Francisco, CA   \n",
       "\n",
       "                                 gq  rentgrs foodstmp  \\\n",
       "0  Households under 1970 definition      790      Yes   \n",
       "1  Households under 1970 definition      790      Yes   \n",
       "2  Households under 1970 definition        0       No   \n",
       "3  Households under 1970 definition     2170      Yes   \n",
       "4  Households under 1970 definition     2170      Yes   \n",
       "\n",
       "                      lingisol             ...              repwtp71 repwtp72  \\\n",
       "0      Linguistically isolated             ...                   176      108   \n",
       "1      Linguistically isolated             ...                   136       94   \n",
       "2  Not linguistically isolated             ...                    22       19   \n",
       "3  Not linguistically isolated             ...                    65       60   \n",
       "4  Not linguistically isolated             ...                   103       87   \n",
       "\n",
       "  repwtp73 repwtp74 repwtp75 repwtp76 repwtp77 repwtp78 repwtp79 repwtp80  \n",
       "0      164      172       29       92       28      104       84       92  \n",
       "1      132      144       24       71       26       98       72       78  \n",
       "2       71       67       60       59       95       19       68       18  \n",
       "3       18       53       16       66       80       68      113      112  \n",
       "4       24       89       29       94       86      107      148      139  \n",
       "\n",
       "[5 rows x 198 columns]"
      ]
     },
     "execution_count": 454,
     "metadata": {},
     "output_type": "execute_result"
    }
   ],
   "source": [
    "oxt.head()"
   ]
  },
  {
   "cell_type": "code",
   "execution_count": 455,
   "metadata": {
    "collapsed": true
   },
   "outputs": [],
   "source": [
    "oxt['n'] = 1"
   ]
  },
  {
   "cell_type": "code",
   "execution_count": 456,
   "metadata": {
    "collapsed": false
   },
   "outputs": [],
   "source": [
    "# labeling the weights\n",
    "wt = 'repwtp'\n",
    "wts = [wt+str(inum) for inum in range(1, 81)] # ['repwt1', ..., 'repwt80']"
   ]
  },
  {
   "cell_type": "code",
   "execution_count": 457,
   "metadata": {
    "collapsed": false
   },
   "outputs": [
    {
     "name": "stdout",
     "output_type": "stream",
     "text": [
      "cilaptop_ind\n",
      "0                58770\n",
      "1               209526\n",
      "Name: n, dtype: int64\n"
     ]
    }
   ],
   "source": [
    "# creating a NO laptop variable\n",
    "oxt = pd.concat([oxt, pd.get_dummies(oxt[\"cilaptop\"])[[2]]], axis = 1)\n",
    "# renaming\n",
    "oxt = oxt.rename(columns = {'Yes':'cilaptop_ind'})\n",
    "\n",
    "print oxt.groupby(by=['cilaptop_ind'])['n'].sum()\n",
    "\n",
    "oxt.loc[(oxt['cilaptop_ind'] == 1), 'no_comp'] = 0\n",
    "oxt.loc[(oxt['cilaptop_ind'] == 0), 'no_comp'] = 1"
   ]
  },
  {
   "cell_type": "code",
   "execution_count": null,
   "metadata": {
    "collapsed": false
   },
   "outputs": [],
   "source": []
  },
  {
   "cell_type": "code",
   "execution_count": null,
   "metadata": {
    "collapsed": true
   },
   "outputs": [],
   "source": [
    "# What does access to Internet at home look like for poor Oakland residents based on age?\n",
    "# first creating variables needed"
   ]
  },
  {
   "cell_type": "code",
   "execution_count": 458,
   "metadata": {
    "collapsed": false
   },
   "outputs": [
    {
     "name": "stdout",
     "output_type": "stream",
     "text": [
      "cilaptop\n",
      "N/A (GQ)     2.557585\n",
      "No          20.738400\n",
      "Yes         83.519870\n",
      "Name: perwt, dtype: float64\n",
      "   N/A (GQ)  no_internet  Yes, with a subscription to an Internet Service  \\\n",
      "0         0            1                                                0   \n",
      "1         0            1                                                0   \n",
      "2         0            0                                                1   \n",
      "3         0            0                                                1   \n",
      "4         0            0                                                1   \n",
      "\n",
      "   Yes, without a subscription to an Internet Service  \n",
      "0                                                  0   \n",
      "1                                                  0   \n",
      "2                                                  0   \n",
      "3                                                  0   \n",
      "4                                                  0   \n"
     ]
    }
   ],
   "source": [
    "# internet access variable codebook\n",
    "# 0: N/A (GQ)\n",
    "# 1: Yes, with a subscription to an Internet Service\n",
    "# 2: Yes, without a subscription to an Internet Service\n",
    "# 3: No Internet access at this house, apartment, or mobile home\n",
    "\n",
    "print oxt.groupby(by=['cilaptop'])['perwt'].sum().div(oxt.hhwt.sum()) * 100 # response options\n",
    "\n",
    "onevar = pd.get_dummies(oxt['cinethh'])\n",
    "onevar.rename(columns={'No Internet access at this house, apartment, or mobile home':'no_internet'}, inplace=True)\n",
    "print onevar.head()\n",
    "# keeping just the second column (\"No Internet access at this house, apartment, or mobile home\", now \"no_internet\"), \n",
    "# merging to main data set\n",
    "onevar = onevar[['no_internet']]\n",
    "oxt = pd.concat([oxt, onevar], axis = 1)"
   ]
  },
  {
   "cell_type": "code",
   "execution_count": 459,
   "metadata": {
    "collapsed": false
   },
   "outputs": [
    {
     "name": "stdout",
     "output_type": "stream",
     "text": [
      "age\n",
      "1      2930\n",
      "10     2958\n",
      "11     2828\n",
      "12     2848\n",
      "13     2827\n",
      "14     2775\n",
      "15     2886\n",
      "16     3001\n",
      "17     3118\n",
      "18     3750\n",
      "19     3744\n",
      "2      2842\n",
      "20     3771\n",
      "21     3699\n",
      "22     4062\n",
      "...\n",
      "82                           1014\n",
      "83                            972\n",
      "84                            955\n",
      "85                            867\n",
      "86                            878\n",
      "87                            724\n",
      "88                            653\n",
      "89                            539\n",
      "9                            2798\n",
      "90 (90+ in 1980 and 1990)     459\n",
      "91                            238\n",
      "93                            103\n",
      "94                            753\n",
      "95                            800\n",
      "Less than 1 year old         2915\n",
      "Name: n, Length: 95, dtype: int64\n"
     ]
    }
   ],
   "source": [
    "# Creating the age range variable\n",
    "print oxt.groupby(by=['age'])['n'].sum() # absolute/sampled numbers\n",
    "oxt.age[oxt.age == 'Less than 1 year old'] = 0 # recoding\n",
    "oxt.age[oxt.age == '90 (90+ in 1980 and 1990)'] = 91 # recoding\n",
    "oxt.age = oxt.age.astype(int)\n",
    "\n",
    "# Age variable\n",
    "oxt.loc[(oxt['age'] >= 0) & (oxt['age'] <= 10), 'age_ind'] = '0-10'\n",
    "oxt.loc[(oxt['age'] >= 11) & (oxt['age'] <= 14), 'age_ind'] = '11-14'\n",
    "oxt.loc[(oxt['age'] >= 15) & (oxt['age'] <= 18), 'age_ind'] = '15-18'\n",
    "oxt.loc[(oxt['age'] >= 19) & (oxt['age'] <= 22), 'age_ind'] = '19-22'\n",
    "oxt.loc[(oxt['age'] >= 22) & (oxt['age'] <= 25), 'age_ind'] = '22-25'\n",
    "oxt.loc[(oxt['age'] >= 21) & (oxt['age'] <= 29), 'age_ind'] = '26-29'\n",
    "oxt.loc[(oxt['age'] >= 30) & (oxt['age'] <= 39), 'age_ind'] = '30-39'\n",
    "oxt.loc[(oxt['age'] >= 40) & (oxt['age'] <= 49), 'age_ind'] = '40-49'\n",
    "oxt.loc[(oxt['age'] >= 50) & (oxt['age'] <= 59), 'age_ind'] = '50-59'\n",
    "oxt.loc[(oxt['age'] >= 61), 'age_ind'] = '61+'"
   ]
  },
  {
   "cell_type": "code",
   "execution_count": 460,
   "metadata": {
    "collapsed": false
   },
   "outputs": [
    {
     "name": "stdout",
     "output_type": "stream",
     "text": [
      "268296\n"
     ]
    }
   ],
   "source": [
    "# just Oakland:\n",
    "oxt_oakland = oxt[oxt['city'] == 'Oakland, CA']\n",
    "print len(oxt.index)\n",
    "\n",
    "# just poor in Oakland:\n",
    "oxt_oakland_poor = oxt_oakland[oxt_oakland.poverty < 100]"
   ]
  },
  {
   "cell_type": "code",
   "execution_count": 461,
   "metadata": {
    "collapsed": false
   },
   "outputs": [
    {
     "name": "stdout",
     "output_type": "stream",
     "text": [
      "age_ind\n",
      "0-10       0.317152\n",
      "11-14      0.329046\n",
      "15-18      0.180771\n",
      "19-22      0.155227\n",
      "26-29      0.220203\n",
      "30-39      0.273447\n",
      "40-49      0.264167\n",
      "50-59      0.351251\n",
      "61+        0.478935\n",
      "dtype: float64\n"
     ]
    }
   ],
   "source": [
    "# defining the function to summarize weighted internet access in the home by age group\n",
    "grouped = oxt_oakland_poor.groupby('age_ind')\n",
    "minifun = lambda x: np.average(x.no_internet, weights = x.perwt)\n",
    "print str(grouped.apply(minifun)) # proportion of poor Oaklanders without internet access in their home"
   ]
  },
  {
   "cell_type": "code",
   "execution_count": null,
   "metadata": {
    "collapsed": true
   },
   "outputs": [],
   "source": [
    "# adding confidence intervals to weighted means using replicate weights"
   ]
  },
  {
   "cell_type": "code",
   "execution_count": 462,
   "metadata": {
    "collapsed": true
   },
   "outputs": [],
   "source": [
    "age_grp = ['0-10', '11-14', '15-18', '19-22', '26-29', '30-39', '40-49', '50-59', '61+']"
   ]
  },
  {
   "cell_type": "code",
   "execution_count": 463,
   "metadata": {
    "collapsed": false
   },
   "outputs": [
    {
     "name": "stdout",
     "output_type": "stream",
     "text": [
      "0.317562545005\n",
      "0.327655631392\n",
      "0.181473949301\n",
      "0.155636709839\n",
      "0.220018740074\n",
      "0.273441168994\n",
      "0.263988716171\n",
      "0.35104464947\n",
      "0.478908082798\n"
     ]
    }
   ],
   "source": [
    "# Saving the replicate-weighted means\n",
    "means = []\n",
    "\n",
    "for age in age_grp:\n",
    "    age_se_mean = []\n",
    "    for weight in wts:\n",
    "        age_se_mean.append(float((np.average(oxt_oakland_poor[oxt_oakland_poor['age_ind'] == age][\"no_internet\"], \n",
    "                                                 weights = oxt_oakland_poor[oxt_oakland['age_ind'] == age][weight]))))\n",
    "        age_meandiff = np.sum(age_se_mean) / 80\n",
    "    means.append(float(age_meandiff))\n",
    "    print age_meandiff\n"
   ]
  },
  {
   "cell_type": "code",
   "execution_count": 464,
   "metadata": {
    "collapsed": false
   },
   "outputs": [
    {
     "name": "stdout",
     "output_type": "stream",
     "text": [
      "  age_grp     means\n",
      "0    0-10  0.317563\n",
      "1   11-14  0.327656\n",
      "2   15-18  0.181474\n",
      "3   19-22  0.155637\n",
      "4   26-29  0.220019\n",
      "5   30-39  0.273441\n",
      "6   40-49  0.263989\n",
      "7   50-59  0.351045\n",
      "8     61+  0.478908\n"
     ]
    }
   ],
   "source": [
    "# making data frame of age groups and means...\n",
    "age_df = pd.DataFrame({'age_grp': age_grp, 'means': means})\n",
    "print age_df"
   ]
  },
  {
   "cell_type": "code",
   "execution_count": 465,
   "metadata": {
    "collapsed": false
   },
   "outputs": [
    {
     "name": "stdout",
     "output_type": "stream",
     "text": [
      "0.0483297914402\n",
      "0.0654660467234\n",
      "0.0477533490329\n",
      "0.050011414039\n",
      "0.0363654264178\n",
      "0.0410976333568\n",
      "0.0416232763455\n",
      "0.0437529009122\n",
      "0.0381072231031\n",
      "[0.048329791440175705, 0.06546604672337289, 0.04775334903287616, 0.05001141403896587, 0.0363654264178082, 0.041097633356773536, 0.04162327634554945, 0.043752900912232044, 0.03810722310307676]\n"
     ]
    }
   ],
   "source": [
    "# Computing the standard errors for internet access in each age group...\n",
    "\n",
    "age_se_all = [] # for holding the 80 differences\n",
    "age_ses = [] # for holding the standard errors before averaging\n",
    "\n",
    "for age in age_grp:\n",
    "    for weight in wts:\n",
    "        age_se_all.append(float((np.average(oxt_oakland_poor[oxt_oakland_poor['age_ind'] == age][\"no_internet\"], \n",
    "                                                 weights = oxt_oakland_poor[oxt_oakland_poor['age_ind'] == age][weight])) - \n",
    "                                                      age_df[age_df['age_grp'] == age][\"means\"]) ** 2)\n",
    "    se = (np.sum(age_se_all) * .05) ** .5\n",
    "    print se\n",
    "    age_se_all = [] # clearing the list of 80\n",
    "    age_ses.append(float(se))\n",
    "print age_ses    "
   ]
  },
  {
   "cell_type": "code",
   "execution_count": 466,
   "metadata": {
    "collapsed": false
   },
   "outputs": [
    {
     "name": "stdout",
     "output_type": "stream",
     "text": [
      "age_ind\n",
      "0-10       32063\n",
      "11-14      11278\n",
      "15-18      12755\n",
      "19-22       7515\n",
      "26-29      39100\n",
      "30-39      39324\n",
      "40-49      34531\n",
      "50-59      35782\n",
      "61+        52508\n",
      "Name: n, dtype: int64\n"
     ]
    }
   ],
   "source": [
    "print oxt.groupby(by = ['age_ind'])['n'].sum()"
   ]
  },
  {
   "cell_type": "code",
   "execution_count": null,
   "metadata": {
    "collapsed": true
   },
   "outputs": [],
   "source": [
    "# data frame with means and standard errors"
   ]
  },
  {
   "cell_type": "code",
   "execution_count": 467,
   "metadata": {
    "collapsed": false
   },
   "outputs": [
    {
     "name": "stdout",
     "output_type": "stream",
     "text": [
      "  age_grp     means        se\n",
      "0    0-10  0.317563  0.048330\n",
      "1   11-14  0.327656  0.065466\n",
      "2   15-18  0.181474  0.047753\n",
      "3   19-22  0.155637  0.050011\n",
      "4   26-29  0.220019  0.036365\n",
      "5   30-39  0.273441  0.041098\n",
      "6   40-49  0.263989  0.041623\n",
      "7   50-59  0.351045  0.043753\n",
      "8     61+  0.478908  0.038107\n"
     ]
    }
   ],
   "source": [
    "age_df = pd.DataFrame({'age_grp': age_grp, 'means': means, 'se': age_ses})\n",
    "print age_df"
   ]
  },
  {
   "cell_type": "code",
   "execution_count": 468,
   "metadata": {
    "collapsed": false
   },
   "outputs": [
    {
     "name": "stdout",
     "output_type": "stream",
     "text": [
      "  age_grp     means        se     lower     upper\n",
      "0    0-10  0.317563  0.048330  0.222836  0.412289\n",
      "1   11-14  0.327656  0.065466  0.199342  0.455969\n",
      "2   15-18  0.181474  0.047753  0.087877  0.275071\n",
      "3   19-22  0.155637  0.050011  0.057614  0.253659\n",
      "4   26-29  0.220019  0.036365  0.148743  0.291295\n",
      "5   30-39  0.273441  0.041098  0.192890  0.353993\n",
      "6   40-49  0.263989  0.041623  0.182407  0.345570\n",
      "7   50-59  0.351045  0.043753  0.265289  0.436800\n",
      "8     61+  0.478908  0.038107  0.404218  0.553598\n"
     ]
    }
   ],
   "source": [
    "# computing the confidence intervals\n",
    "age_df['lower'] = age_df['means'] - (1.96 * age_df['se'])\n",
    "age_df['upper'] = age_df['means'] + (1.96 * age_df['se'])\n",
    "print age_df"
   ]
  },
  {
   "cell_type": "code",
   "execution_count": 469,
   "metadata": {
    "collapsed": false
   },
   "outputs": [],
   "source": [
    "age_df_graph = age_df\n",
    "\n",
    "# multiplying means and se by 100 to get proportion rather than percent\n",
    "age_df_graph[\"means\"] = age_df_graph[\"means\"] * 100\n",
    "age_df_graph[\"se\"] = age_df_graph[\"se\"] * 100"
   ]
  },
  {
   "cell_type": "code",
   "execution_count": 474,
   "metadata": {
    "collapsed": false
   },
   "outputs": [
    {
     "data": {
      "image/png": "[encoded data removed]",
      "text/plain": [
       "<matplotlib.figure.Figure at 0x10f797850>"
      ]
     },
     "metadata": {},
     "output_type": "display_data"
    }
   ],
   "source": [
    "# Graphing\n",
    "age_df_graph.index = age_df_graph[\"age_grp\"]\n",
    "ax = age_df_graph['means'].plot(kind = 'bar', yerr = (age_df_graph['se']) * 1.96)\n",
    "ax.set_ylabel(\"No internet (%)\")\n",
    "ax.set_xlabel(\"Age ranges\")\n",
    "ax.grid(b = False)\n",
    "labels = ax.get_xticklabels()\n",
    "plt.setp(labels, rotation=30, fontsize=10)\n",
    "plt.title('Percent of poor Oakland residents \\n without internet at home by age group', size=16) # household level\n",
    "plt.savefig('/Users/laura/Dropbox/posting/OXTWest/age.png', bbox_inches='tight', dpi = 200)"
   ]
  },
  {
   "cell_type": "code",
   "execution_count": null,
   "metadata": {
    "collapsed": true
   },
   "outputs": [],
   "source": []
  },
  {
   "cell_type": "code",
   "execution_count": null,
   "metadata": {
    "collapsed": true
   },
   "outputs": [],
   "source": [
    "# How does computer ownership of poor residents in Oakland compare with other US cities?"
   ]
  },
  {
   "cell_type": "code",
   "execution_count": 475,
   "metadata": {
    "collapsed": true
   },
   "outputs": [],
   "source": [
    "# keeping just poor\n",
    "oxt_poor = oxt[oxt.poverty < 100]"
   ]
  },
  {
   "cell_type": "code",
   "execution_count": 476,
   "metadata": {
    "collapsed": false
   },
   "outputs": [
    {
     "name": "stdout",
     "output_type": "stream",
     "text": [
      "city\n",
      "Chicago, IL          0.463431\n",
      "Cleveland, OH        0.546172\n",
      "Detroit, MI          0.504711\n",
      "Flint, MI            0.559227\n",
      "Manchester, NH       0.376820\n",
      "Miami, FL            0.470422\n",
      "Minneapolis, MN      0.397932\n",
      "New Orleans, LA      0.577662\n",
      "New York, NY         0.383169\n",
      "Oakland, CA          0.434421\n",
      "Providence, RI       0.555197\n",
      "San Francisco, CA    0.381865\n",
      "Seattle, WA          0.356036\n",
      "dtype: float64\n"
     ]
    }
   ],
   "source": [
    "# function to compute proportion without a computer by group\n",
    "grouped = oxt_poor.groupby('city')\n",
    "minifun = lambda x: np.average(x.no_comp, weights = x.perwt)\n",
    "print str(grouped.apply(minifun))"
   ]
  },
  {
   "cell_type": "code",
   "execution_count": null,
   "metadata": {
    "collapsed": true
   },
   "outputs": [],
   "source": [
    "# computing standard errors for each city mean...."
   ]
  },
  {
   "cell_type": "code",
   "execution_count": 477,
   "metadata": {
    "collapsed": false
   },
   "outputs": [
    {
     "name": "stdout",
     "output_type": "stream",
     "text": [
      "city\n",
      "Chicago, IL          0.463431\n",
      "Cleveland, OH        0.546172\n",
      "Detroit, MI          0.504711\n",
      "Flint, MI            0.559227\n",
      "Manchester, NH       0.376820\n",
      "Miami, FL            0.470422\n",
      "Minneapolis, MN      0.397932\n",
      "New Orleans, LA      0.577662\n",
      "New York, NY         0.383169\n",
      "Oakland, CA          0.434421\n",
      "Providence, RI       0.555197\n",
      "San Francisco, CA    0.381865\n",
      "Seattle, WA          0.356036\n",
      "dtype: float64\n",
      "['Chicago, IL', 'Cleveland, OH', 'Detroit, MI', 'Flint, MI', 'Manchester, NH', 'Miami, FL', 'Minneapolis, MN', 'New Orleans, LA', 'New York, NY', 'Oakland, CA', 'Providence, RI', 'San Francisco, CA', 'Seattle, WA']\n"
     ]
    }
   ],
   "source": [
    "mini_cities = grouped.apply(minifun)\n",
    "print mini_cities\n",
    "city_list = mini_cities.index.values.tolist()\n",
    "print city_list"
   ]
  },
  {
   "cell_type": "code",
   "execution_count": 478,
   "metadata": {
    "collapsed": false
   },
   "outputs": [
    {
     "name": "stdout",
     "output_type": "stream",
     "text": [
      "Chicago, IL = 0.463415157627\n",
      "Cleveland, OH = 0.546390377356\n",
      "Detroit, MI = 0.50479516452\n",
      "Flint, MI = 0.557815507116\n",
      "Manchester, NH = 0.377633434154\n",
      "Miami, FL = 0.470315785062\n",
      "Minneapolis, MN = 0.39829477716\n",
      "New Orleans, LA = 0.577234884952\n",
      "New York, NY = 0.383163739904\n",
      "Oakland, CA = 0.434282010988\n",
      "Providence, RI = 0.554278442952\n",
      "San Francisco, CA = 0.381893440409\n",
      "Seattle, WA = 0.35636592331\n"
     ]
    }
   ],
   "source": [
    "# Saving the replicate-weighted means for each city\n",
    "city_means = []\n",
    "\n",
    "for city in city_list:\n",
    "    city_se_mean = []\n",
    "    for weight in wts:\n",
    "        city_se_mean.append(float((np.average(oxt_poor[oxt_poor['city'] == city][\"no_comp\"], \n",
    "                                                 weights = oxt_poor[oxt_poor['city'] == city][weight]))))\n",
    "        city_meandiff = np.sum(city_se_mean) / 80\n",
    "    city_means.append(city_meandiff)\n",
    "    print str(city) + \" = \" + str(city_meandiff)"
   ]
  },
  {
   "cell_type": "code",
   "execution_count": 479,
   "metadata": {
    "collapsed": false
   },
   "outputs": [
    {
     "name": "stdout",
     "output_type": "stream",
     "text": [
      "                 city     means\n",
      "0         Chicago, IL  0.463415\n",
      "1       Cleveland, OH  0.546390\n",
      "2         Detroit, MI  0.504795\n",
      "3           Flint, MI  0.557816\n",
      "4      Manchester, NH  0.377633\n",
      "5           Miami, FL  0.470316\n",
      "6     Minneapolis, MN  0.398295\n",
      "7     New Orleans, LA  0.577235\n",
      "8        New York, NY  0.383164\n",
      "9         Oakland, CA  0.434282\n",
      "10     Providence, RI  0.554278\n",
      "11  San Francisco, CA  0.381893\n",
      "12        Seattle, WA  0.356366\n"
     ]
    }
   ],
   "source": [
    "# making data frame of age groups and means...\n",
    "city_df = pd.DataFrame({'city': city_list, 'means': city_means})\n",
    "print city_df"
   ]
  },
  {
   "cell_type": "code",
   "execution_count": 480,
   "metadata": {
    "collapsed": false
   },
   "outputs": [
    {
     "name": "stdout",
     "output_type": "stream",
     "text": [
      "0.0108863152875\n",
      "0.0227630673181\n",
      "0.0177552244864\n",
      "0.0464320660241\n",
      "0.0528620098412\n",
      "0.0175222635073\n",
      "0.0265577266899\n",
      "0.0197373759945\n",
      "0.00540260762714\n",
      "0.0243048288588\n",
      "0.0288893991624\n",
      "0.0185023648112\n",
      "0.0198967110244\n",
      "[0.010886315287513007, 0.022763067318143582, 0.01775522448642626, 0.046432066024134154, 0.05286200984117941, 0.017522263507314086, 0.026557726689872257, 0.01973737599451846, 0.005402607627138789, 0.02430482885884329, 0.02888939916243583, 0.018502364811156743, 0.019896711024438532]\n"
     ]
    }
   ],
   "source": [
    "# Computing the standard errors for each city's mean\n",
    "\n",
    "city_se_all = [] # for holding the 80 differences\n",
    "city_ses = [] # for holding the standard errors\n",
    "\n",
    "for city in city_list:\n",
    "    for weight in wts:\n",
    "        city_se_all.append(float((np.average(oxt_poor[oxt_poor['city'] == city][\"no_comp\"], \n",
    "                                                 weights = oxt_poor[oxt_poor['city'] == city][weight])) - \n",
    "                                                      city_df[city_df['city'] == city][\"means\"]) ** 2)\n",
    "    se = (np.sum(city_se_all) * .05) ** .5\n",
    "    print se\n",
    "    city_se_all = [] # clearing the list of 80\n",
    "    city_ses.append(float(se))\n",
    "print city_ses   "
   ]
  },
  {
   "cell_type": "code",
   "execution_count": 481,
   "metadata": {
    "collapsed": false
   },
   "outputs": [
    {
     "name": "stdout",
     "output_type": "stream",
     "text": [
      "                 city     means        se\n",
      "0         Chicago, IL  0.463415  0.010886\n",
      "1       Cleveland, OH  0.546390  0.022763\n",
      "2         Detroit, MI  0.504795  0.017755\n",
      "3           Flint, MI  0.557816  0.046432\n",
      "4      Manchester, NH  0.377633  0.052862\n",
      "5           Miami, FL  0.470316  0.017522\n",
      "6     Minneapolis, MN  0.398295  0.026558\n",
      "7     New Orleans, LA  0.577235  0.019737\n",
      "8        New York, NY  0.383164  0.005403\n",
      "9         Oakland, CA  0.434282  0.024305\n",
      "10     Providence, RI  0.554278  0.028889\n",
      "11  San Francisco, CA  0.381893  0.018502\n",
      "12        Seattle, WA  0.356366  0.019897\n"
     ]
    }
   ],
   "source": [
    "city_df = pd.DataFrame({'city': city_list, 'means': city_means, 'se': city_ses})\n",
    "print city_df"
   ]
  },
  {
   "cell_type": "code",
   "execution_count": 482,
   "metadata": {
    "collapsed": false
   },
   "outputs": [
    {
     "name": "stdout",
     "output_type": "stream",
     "text": [
      "                 city     means        se     lower     upper\n",
      "0         Chicago, IL  0.463415  0.010886  0.442078  0.484752\n",
      "1       Cleveland, OH  0.546390  0.022763  0.501775  0.591006\n",
      "2         Detroit, MI  0.504795  0.017755  0.469995  0.539595\n",
      "3           Flint, MI  0.557816  0.046432  0.466809  0.648822\n",
      "4      Manchester, NH  0.377633  0.052862  0.274024  0.481243\n",
      "5           Miami, FL  0.470316  0.017522  0.435972  0.504659\n",
      "6     Minneapolis, MN  0.398295  0.026558  0.346242  0.450348\n",
      "7     New Orleans, LA  0.577235  0.019737  0.538550  0.615920\n",
      "8        New York, NY  0.383164  0.005403  0.372575  0.393753\n",
      "9         Oakland, CA  0.434282  0.024305  0.386645  0.481919\n",
      "10     Providence, RI  0.554278  0.028889  0.497655  0.610902\n",
      "11  San Francisco, CA  0.381893  0.018502  0.345629  0.418158\n",
      "12        Seattle, WA  0.356366  0.019897  0.317368  0.395363\n"
     ]
    }
   ],
   "source": [
    "# computing the confidence intervals\n",
    "city_df['lower'] = city_df['means'] - (1.96 * city_df['se'])\n",
    "city_df['upper'] = city_df['means'] + (1.96 * city_df['se'])\n",
    "print city_df"
   ]
  },
  {
   "cell_type": "code",
   "execution_count": 483,
   "metadata": {
    "collapsed": false
   },
   "outputs": [
    {
     "name": "stdout",
     "output_type": "stream",
     "text": [
      "                 city     means        se     lower     upper\n",
      "7     New Orleans, LA  0.577235  0.019737  0.538550  0.615920\n",
      "3           Flint, MI  0.557816  0.046432  0.466809  0.648822\n",
      "10     Providence, RI  0.554278  0.028889  0.497655  0.610902\n",
      "1       Cleveland, OH  0.546390  0.022763  0.501775  0.591006\n",
      "2         Detroit, MI  0.504795  0.017755  0.469995  0.539595\n",
      "5           Miami, FL  0.470316  0.017522  0.435972  0.504659\n",
      "0         Chicago, IL  0.463415  0.010886  0.442078  0.484752\n",
      "9         Oakland, CA  0.434282  0.024305  0.386645  0.481919\n",
      "6     Minneapolis, MN  0.398295  0.026558  0.346242  0.450348\n",
      "8        New York, NY  0.383164  0.005403  0.372575  0.393753\n",
      "11  San Francisco, CA  0.381893  0.018502  0.345629  0.418158\n",
      "4      Manchester, NH  0.377633  0.052862  0.274024  0.481243\n",
      "12        Seattle, WA  0.356366  0.019897  0.317368  0.395363\n"
     ]
    }
   ],
   "source": [
    "city_df = city_df.sort(['means'], ascending = [0])\n",
    "print city_df"
   ]
  },
  {
   "cell_type": "code",
   "execution_count": 484,
   "metadata": {
    "collapsed": false
   },
   "outputs": [],
   "source": [
    "# multiplying means and se by 100...\n",
    "city_df_graph = city_df\n",
    "# to get proportion rather than percent\n",
    "city_df_graph[\"means\"] = city_df_graph[\"means\"] * 100\n",
    "city_df_graph[\"se\"] = city_df_graph[\"se\"] * 100"
   ]
  },
  {
   "cell_type": "code",
   "execution_count": 486,
   "metadata": {
    "collapsed": false
   },
   "outputs": [
    {
     "data": {
      "image/png": "[encoded data removed]",
      "text/plain": [
       "<matplotlib.figure.Figure at 0x111c3b890>"
      ]
     },
     "metadata": {},
     "output_type": "display_data"
    }
   ],
   "source": [
    "city_df_graph.index = city_df_graph[\"city\"]\n",
    "ax = city_df_graph['means'].plot(kind = 'bar', yerr = (city_df_graph['se']) * 1.96,\n",
    "                                color = ['b', 'b', 'b', 'b', 'b', 'b', 'b', 'r', 'b', 'b', 'b', 'b', 'b'])\n",
    "ax.set_ylabel(\"No computer (%)\")\n",
    "ax.set_xlabel(\"City\")\n",
    "ax.grid(b = False)\n",
    "plt.title('Percent of the poor \\n without a computer at home, by city', size = 16) # household level\n",
    "plt.savefig('/Users/laura/Dropbox/posting/OXTWest/city.png', bbox_inches='tight', dpi = 200)"
   ]
  },
  {
   "cell_type": "code",
   "execution_count": null,
   "metadata": {
    "collapsed": true
   },
   "outputs": [],
   "source": []
  },
  {
   "cell_type": "code",
   "execution_count": null,
   "metadata": {
    "collapsed": true
   },
   "outputs": [],
   "source": [
    "# What does computer ownership look like with the employment status (EMPSTAT) variable\n",
    "# NOTE: I am doing this just for Oakland"
   ]
  },
  {
   "cell_type": "code",
   "execution_count": 519,
   "metadata": {
    "collapsed": false
   },
   "outputs": [
    {
     "name": "stdout",
     "output_type": "stream",
     "text": [
      "empstat\n",
      "Employed              0.120885\n",
      "Not in labor force    0.302571\n",
      "Unemployed            0.253451\n",
      "dtype: float64\n"
     ]
    }
   ],
   "source": [
    "# Proportion of each empstat category with computer\n",
    "# first creating the no_comp variable:\n",
    "oxt_oakland = oxt[oxt['city'] == 'Oakland, CA']\n",
    "grouped = oxt_oakland.groupby('empstat')\n",
    "minifun = lambda x: np.average(x.no_comp, weights = x.perwt)\n",
    "empstats = grouped.apply(minifun)\n",
    "print str(grouped.apply(minifun)) "
   ]
  },
  {
   "cell_type": "code",
   "execution_count": 520,
   "metadata": {
    "collapsed": false
   },
   "outputs": [
    {
     "name": "stdout",
     "output_type": "stream",
     "text": [
      "0.253451442152\n",
      "0.120884531353\n"
     ]
    }
   ],
   "source": [
    "# saving the relavent means...\n",
    "\n",
    "emp_mean = empstats.iloc[0] # employed\n",
    "unemp_mean = empstats.iloc[2] # unemployed\n",
    "\n",
    "print unemp_mean\n",
    "print emp_mean"
   ]
  },
  {
   "cell_type": "code",
   "execution_count": 521,
   "metadata": {
    "collapsed": false
   },
   "outputs": [
    {
     "name": "stdout",
     "output_type": "stream",
     "text": [
      "empstat\n",
      "Employed              4493\n",
      "Not in labor force    2587\n",
      "Unemployed             443\n",
      "Name: n, dtype: int64\n"
     ]
    }
   ],
   "source": [
    "print oxt_oakland.groupby(by = ['empstat'])['n'].sum() # quickly looking at sample sizes"
   ]
  },
  {
   "cell_type": "code",
   "execution_count": 522,
   "metadata": {
    "collapsed": false
   },
   "outputs": [
    {
     "name": "stdout",
     "output_type": "stream",
     "text": [
      "0.120749312977\n"
     ]
    }
   ],
   "source": [
    "# Computing the proportion of employed Oakland residents with no computer (using replicate weights)\n",
    "oxt_oakland_emp = oxt_oakland[oxt_oakland['empstat'] == 'Employed']\n",
    "empstat_se = []\n",
    "\n",
    "empstat_se_mean = []\n",
    "\n",
    "for weight in wts:\n",
    "    empstat_se_mean.append(float((np.average(oxt_oakland_emp[\"no_comp\"], weights = oxt_oakland_emp[weight]))))\n",
    "emp_meandiff = np.sum(empstat_se_mean) / 80\n",
    "print emp_meandiff"
   ]
  },
  {
   "cell_type": "code",
   "execution_count": 523,
   "metadata": {
    "collapsed": false
   },
   "outputs": [
    {
     "name": "stdout",
     "output_type": "stream",
     "text": [
      "0.253637302145\n"
     ]
    }
   ],
   "source": [
    "# Computing the proportion of unemployed Oakland residents with no computer (using replicate weights)\n",
    "oxt_oakland_unemp = oxt_oakland[oxt_oakland['empstat'] == 'Unemployed']\n",
    "unempstat_se = []\n",
    "\n",
    "unempstat_se_mean = []\n",
    "\n",
    "for weight in wts:\n",
    "    unempstat_se_mean.append(float((np.average(oxt_oakland_unemp[\"no_comp\"], weights = oxt_oakland_unemp[weight]))))\n",
    "unemp_meandiff = np.sum(unempstat_se_mean) / 80\n",
    "print unemp_meandiff"
   ]
  },
  {
   "cell_type": "code",
   "execution_count": 511,
   "metadata": {
    "collapsed": false
   },
   "outputs": [
    {
     "name": "stdout",
     "output_type": "stream",
     "text": [
      "0.00805891188154\n",
      "Standard error for proportion employed without a computer = 0.00805891188154\n"
     ]
    }
   ],
   "source": [
    "# Standard error for the employed\n",
    "for weight in wts:\n",
    "    empstat_se.append(float((np.average(oxt_oakland_emp[\"no_comp\"], weights = oxt_oakland_emp[weight]) - emp_meandiff) ** 2))\n",
    "empstat_ses = (np.sum(empstat_se) * .05) ** .5\n",
    "\n",
    "print empstat_ses\n",
    "\n",
    "print \"Standard error for proportion employed without a computer = \" + str(empstat_ses)"
   ]
  },
  {
   "cell_type": "code",
   "execution_count": 524,
   "metadata": {
    "collapsed": false
   },
   "outputs": [
    {
     "name": "stdout",
     "output_type": "stream",
     "text": [
      "0.0247170047675\n",
      "Standard error for proportion unemployed without a computer = 0.0247170047675\n"
     ]
    }
   ],
   "source": [
    "# Standard error for the unemployed\n",
    "for weight in wts:\n",
    "    unempstat_se.append(float((np.average(oxt_oakland_unemp[\"no_comp\"], weights = oxt_oakland_unemp[weight]) - unemp_meandiff) ** 2))\n",
    "unempstat_ses = (np.sum(unempstat_se) * .05) ** .5\n",
    "\n",
    "print unempstat_ses\n",
    "\n",
    "print \"Standard error for proportion unemployed without a computer = \" + str(unempstat_ses)"
   ]
  },
  {
   "cell_type": "code",
   "execution_count": 525,
   "metadata": {
    "collapsed": false
   },
   "outputs": [
    {
     "name": "stdout",
     "output_type": "stream",
     "text": [
      "Percent of employed without computer = 12.1% (CI = 10.5% , 13.7%)\n",
      "Percent of unemployed without computer = 25.3% (CI = 20.5% , 30.2%)\n"
     ]
    }
   ],
   "source": [
    "# What does computer ownership look like with the employment status (EMPSTAT) variable\n",
    "# NOTE: I am doing this just for Oakland\n",
    "\n",
    "print \"Percent of employed without computer = \" + str(round(emp_mean * 100, 1)) + \\\n",
    "    \"% (CI = \" + str(round(((emp_mean - (1.96*empstat_ses)) * 100), 1)) + \"% , \" + \\\n",
    "    str(round(((emp_mean + (1.96*empstat_ses)) * 100), 1)) + \"%)\"\n",
    "\n",
    "print \"Percent of unemployed without computer = \" + str(round(unemp_mean * 100, 1)) + \\\n",
    "    \"% (CI = \" + str(round(((unemp_mean - (1.96*unempstat_ses)) * 100), 1)) + \"% , \" + \\\n",
    "    str(round(((unemp_mean + (1.96*unempstat_ses)) * 100), 1)) + \"%)\"   "
   ]
  },
  {
   "cell_type": "code",
   "execution_count": null,
   "metadata": {
    "collapsed": true
   },
   "outputs": [],
   "source": []
  },
  {
   "cell_type": "code",
   "execution_count": null,
   "metadata": {
    "collapsed": true
   },
   "outputs": [],
   "source": [
    "# What does Internet and computer access look like by race/ethnicity?"
   ]
  },
  {
   "cell_type": "code",
   "execution_count": 496,
   "metadata": {
    "collapsed": false
   },
   "outputs": [
    {
     "name": "stdout",
     "output_type": "stream",
     "text": [
      "race_var\n",
      "Black only    1882\n",
      "Hispanic      2118\n",
      "Other         2110\n",
      "White only    2983\n",
      "Name: n, dtype: int64\n"
     ]
    },
    {
     "name": "stderr",
     "output_type": "stream",
     "text": [
      "/Users/laura/anaconda/lib/python2.7/site-packages/IPython/kernel/__main__.py:5: SettingWithCopyWarning: A value is trying to be set on a copy of a slice from a DataFrame\n"
     ]
    }
   ],
   "source": [
    "# variable for Black only, white only, Hispanic origin only, other (including mixed race) - only in Oakland\n",
    "oxt_oakland.loc[(oxt_oakland['race'] == \"Black/Negro\"), 'race_var'] = 'Black only'\n",
    "oxt_oakland.loc[(oxt_oakland['race'] == \"White\"), 'race_var'] = 'White only'\n",
    "oxt_oakland.loc[(oxt_oakland['hispan'] != \"Not Hispanic\"), 'race_var'] = 'Hispanic'\n",
    "oxt_oakland['race_var'].fillna('Other', inplace = True)\n",
    "\n",
    "print oxt_oakland.groupby(by = ['race_var'])['n'].sum()"
   ]
  },
  {
   "cell_type": "code",
   "execution_count": 497,
   "metadata": {
    "collapsed": false
   },
   "outputs": [],
   "source": [
    "race_list = ['Black only', 'Hispanic', 'Other', 'White only']"
   ]
  },
  {
   "cell_type": "code",
   "execution_count": 498,
   "metadata": {
    "collapsed": false
   },
   "outputs": [
    {
     "name": "stdout",
     "output_type": "stream",
     "text": [
      "0.232411474228\n",
      "0.219767069167\n",
      "0.112896282138\n",
      "0.0494528725257\n"
     ]
    }
   ],
   "source": [
    "# Saving the replicate-weighted means for each race/ethnicity\n",
    "race_means = []\n",
    "\n",
    "for race in race_list:\n",
    "    race_se_mean = []\n",
    "    for weight in wts:\n",
    "        race_se_mean.append(float((np.average(oxt_oakland[oxt_oakland['race_var'] == race][\"no_internet\"], \n",
    "                                                 weights = oxt_oakland[oxt_oakland['race_var'] == race][weight]))))\n",
    "        race_meandiff = np.sum(race_se_mean) / 80\n",
    "    race_means.append(float(race_meandiff))\n",
    "    print race_meandiff"
   ]
  },
  {
   "cell_type": "code",
   "execution_count": 499,
   "metadata": {
    "collapsed": false
   },
   "outputs": [
    {
     "name": "stdout",
     "output_type": "stream",
     "text": [
      "      means        race\n",
      "0  0.232411  Black only\n",
      "1  0.219767    Hispanic\n",
      "2  0.112896       Other\n",
      "3  0.049453  White only\n"
     ]
    }
   ],
   "source": [
    "# making data frame of age groups and means...\n",
    "race_df = pd.DataFrame({'race': race_list, 'means': race_means})\n",
    "print race_df"
   ]
  },
  {
   "cell_type": "code",
   "execution_count": 500,
   "metadata": {
    "collapsed": false
   },
   "outputs": [
    {
     "name": "stdout",
     "output_type": "stream",
     "text": [
      "0.0197341909634\n",
      "0.0198668849235\n",
      "0.0112672410218\n",
      "0.00458884510785\n",
      "[0.019734190963415145, 0.019866884923549127, 0.011267241021763281, 0.004588845107852961]\n"
     ]
    }
   ],
   "source": [
    "# Computing the standard errors for internet access in each race/ethnicity...\n",
    "\n",
    "race_se_all = [] # for holding the 80 differences\n",
    "race_ses = [] # for holding the standard errors\n",
    "\n",
    "for race in race_list:\n",
    "    for weight in wts:\n",
    "        race_se_all.append(float((np.average(oxt_oakland[oxt_oakland['race_var'] == race][\"no_internet\"], \n",
    "                                                 weights = oxt_oakland[oxt_oakland['race_var'] == race][weight])) - \n",
    "                                                      race_df[race_df['race'] == race][\"means\"]) ** 2)\n",
    "    se = (np.sum(race_se_all) * .05) ** .5\n",
    "    print se\n",
    "    race_se_all = [] # clearing the list of 80\n",
    "    race_ses.append(float(se))\n",
    "print race_ses  "
   ]
  },
  {
   "cell_type": "code",
   "execution_count": 501,
   "metadata": {
    "collapsed": false
   },
   "outputs": [
    {
     "name": "stdout",
     "output_type": "stream",
     "text": [
      "      means        race        se\n",
      "0  0.232411  Black only  0.019734\n",
      "1  0.219767    Hispanic  0.019867\n",
      "2  0.112896       Other  0.011267\n",
      "3  0.049453  White only  0.004589\n"
     ]
    }
   ],
   "source": [
    "race_df = pd.DataFrame({'race': race_list, 'means': race_means, 'se': race_ses})\n",
    "print race_df"
   ]
  },
  {
   "cell_type": "code",
   "execution_count": 502,
   "metadata": {
    "collapsed": false
   },
   "outputs": [
    {
     "name": "stdout",
     "output_type": "stream",
     "text": [
      "      means        race        se     lower     upper\n",
      "0  0.232411  Black only  0.019734  0.193732  0.271090\n",
      "1  0.219767    Hispanic  0.019867  0.180828  0.258706\n",
      "2  0.112896       Other  0.011267  0.090812  0.134980\n",
      "3  0.049453  White only  0.004589  0.040459  0.058447\n"
     ]
    }
   ],
   "source": [
    "# computing the confidence intervals\n",
    "race_df['lower'] = race_df['means'] - (1.96 * race_df['se'])\n",
    "race_df['upper'] = race_df['means'] + (1.96 * race_df['se'])\n",
    "print race_df"
   ]
  },
  {
   "cell_type": "code",
   "execution_count": 503,
   "metadata": {
    "collapsed": false
   },
   "outputs": [
    {
     "name": "stdout",
     "output_type": "stream",
     "text": [
      "      means        race        se     lower     upper\n",
      "0  0.232411  Black only  0.019734  0.193732  0.271090\n",
      "1  0.219767    Hispanic  0.019867  0.180828  0.258706\n",
      "2  0.112896       Other  0.011267  0.090812  0.134980\n",
      "3  0.049453  White only  0.004589  0.040459  0.058447\n"
     ]
    }
   ],
   "source": [
    "# graphing\n",
    "race_df = race_df.sort(['means'], ascending = [0])\n",
    "print race_df"
   ]
  },
  {
   "cell_type": "code",
   "execution_count": 504,
   "metadata": {
    "collapsed": false
   },
   "outputs": [],
   "source": [
    "# Graphing internet access by race/ethnicity\n",
    "race_df_graph = race_df\n",
    "# percent rather than proportion...\n",
    "race_df_graph[\"means\"] = race_df_graph[\"means\"] * 100\n",
    "race_df_graph[\"se\"] = race_df_graph[\"se\"] * 100"
   ]
  },
  {
   "cell_type": "code",
   "execution_count": 505,
   "metadata": {
    "collapsed": false
   },
   "outputs": [
    {
     "data": {
      "image/png": "[encoded data removed]",
      "text/plain": [
       "<matplotlib.figure.Figure at 0x10ccbd650>"
      ]
     },
     "metadata": {},
     "output_type": "display_data"
    }
   ],
   "source": [
    "race_df_graph.index = race_df_graph[\"race\"]\n",
    "ax = race_df_graph['means'].plot(kind = 'bar', yerr = (race_df_graph['se']) * 1.96)\n",
    "ax.set_ylabel(\"No internet (%)\")\n",
    "ax.set_xlabel(\"Race/ethnicity\")\n",
    "ax.grid(b = False)\n",
    "labels = ax.get_xticklabels()\n",
    "plt.setp(labels, rotation = 0, fontsize = 10)\n",
    "\n",
    "plt.title('Percent of Oakland residents with no \\n internet access at home by race/ethnicity', size=16) \n",
    "plt.savefig('/Users/laura/Dropbox/posting/OXTWest/raceeth.png', bbox_inches='tight', dpi = 200)"
   ]
  },
  {
   "cell_type": "code",
   "execution_count": null,
   "metadata": {
    "collapsed": true
   },
   "outputs": [],
   "source": []
  }
 ],
 "metadata": {
  "kernelspec": {
   "display_name": "Python 2",
   "language": "python",
   "name": "python2"
  },
  "language_info": {
   "codemirror_mode": {
    "name": "ipython",
    "version": 2
   },
   "file_extension": ".py",
   "mimetype": "text/x-python",
   "name": "python",
   "nbconvert_exporter": "python",
   "pygments_lexer": "ipython2",
   "version": "2.7.9"
  }
 },
 "nbformat": 4,
 "nbformat_minor": 0
}
